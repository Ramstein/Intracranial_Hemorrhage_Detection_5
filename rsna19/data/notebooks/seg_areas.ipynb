{
 "cells": [
  {
   "cell_type": "code",
   "execution_count": null,
   "metadata": {},
   "outputs": [],
   "source": [
    "import cv2\n",
    "import numpy as np\n",
    "from glob import iglob\n",
    "from pathlib import Path\n",
    "from tqdm import tqdm\n",
    "import pandas as pd\n",
    "\n",
    "QUERY = \"/kolos/ssd/ct-m2/data/rsna/train/*/masks/cropped400/any/*\"\n"
   ]
  },
  {
   "cell_type": "code",
   "execution_count": null,
   "metadata": {},
   "outputs": [],
   "source": [
    "ids = []\n",
    "slice_numbers = []\n",
    "areas = []\n",
    "\n",
    "for path in tqdm(list(iglob(QUERY))[:10]):\n",
    "    path = Path(path)\n",
    "    ids.append(path.parts[-5])\n",
    "    slice_numbers.append(path.stem)\n",
    "    areas.append((cv2.imread(str(path), cv2.IMREAD_GRAYSCALE) > 128).astype(np.float32).sum())\n",
    "\n",
    "data = {'id': ids, 'slice_number': slice_numbers, 'area': areas}\n",
    "df = pd.DataFrame.from_dict(data)\n",
    "df = df[['id', 'slice_number', 'area']]\n",
    "df = df.sort_values(by=['id', 'slice_number'])\n",
    "df.to_csv(r'areas.csv')\n",
    "\n",
    "df"
   ]
  }
 ],
 "metadata": {
  "kernelspec": {
   "display_name": "Python 3",
   "language": "python",
   "name": "python3"
  },
  "language_info": {
   "codemirror_mode": {
    "name": "ipython",
    "version": 3
   },
   "file_extension": ".py",
   "mimetype": "text/x-python",
   "name": "python",
   "nbconvert_exporter": "python",
   "pygments_lexer": "ipython3",
   "version": "3.5.2"
  }
 },
 "nbformat": 4,
 "nbformat_minor": 2
}
