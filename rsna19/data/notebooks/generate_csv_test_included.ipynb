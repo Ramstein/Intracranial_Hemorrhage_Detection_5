{
 "cells": [
  {
   "cell_type": "code",
   "execution_count": 1,
   "metadata": {},
   "outputs": [],
   "source": [
    "%matplotlib inline\n",
    "%reload_ext autoreload\n",
    "%autoreload 2"
   ]
  },
  {
   "cell_type": "code",
   "execution_count": 61,
   "metadata": {},
   "outputs": [],
   "source": [
    "from glob import glob\n",
    "import random\n",
    "import json\n",
    "import pydicom\n",
    "import pickle\n",
    "import pandas as pd\n",
    "import numpy as np\n",
    "import os\n",
    "\n",
    "import matplotlib.pyplot as plt\n",
    "\n",
    "DICOM_TAGS_DF_PATH = '/kolos/m2/ct/data/rsna/df.pkl'\n",
    "LABELS_PATH = '/kolos/storage/ct/data/rsna/stage_1_train.csv'\n",
    "\n",
    "DISEASES = ['epidural', 'intraparenchymal', 'intraventricular', 'subarachnoid', 'subdural']\n",
    "\n",
    "NUM_FOLDS = 5"
   ]
  },
  {
   "cell_type": "code",
   "execution_count": 62,
   "metadata": {},
   "outputs": [],
   "source": [
    "csv_root_dir = os.path.normpath(os.getcwd() + '/../csv')"
   ]
  },
  {
   "cell_type": "code",
   "execution_count": 63,
   "metadata": {},
   "outputs": [],
   "source": [
    "folds_orig = pd.read_csv(os.path.join(csv_root_dir, '5fold.csv'))\n",
    "folds_corrected = pd.read_csv(os.path.join(csv_root_dir, '5fold-rev3.csv'))\n",
    "id_map = pd.read_csv(os.path.join(csv_root_dir, 'id_map.csv'))\n",
    "id_map = id_map.set_index('SOPInstanceUID')"
   ]
  },
  {
   "cell_type": "code",
   "execution_count": 64,
   "metadata": {},
   "outputs": [],
   "source": [
    "folds_patients_test = pd.read_csv(os.path.join(csv_root_dir, 'fold_patients_test.csv'))"
   ]
  },
  {
   "cell_type": "code",
   "execution_count": 65,
   "metadata": {},
   "outputs": [],
   "source": [
    "def load_labels(PATH):\n",
    "    labels = pd.read_csv(PATH)\n",
    "    labels[['SOPInstanceUID', 'Disease']] = labels.ID.str.rsplit(\"_\", 1, expand=True)\n",
    "    labels = labels[['SOPInstanceUID', 'Disease', 'Label']]\n",
    "    labels = pd.pivot_table(labels, index=\"SOPInstanceUID\", columns=\"Disease\", values=\"Label\")\n",
    "\n",
    "    return labels\n",
    "\n",
    "# TODO read given csv with labels for test set\n",
    "test_csv_path = '/home/sp/repos/kaggle-rsna-2019/rsna19/data/csv/tt.csv'\n",
    "test_labels_df = load_labels(test_csv_path)"
   ]
  },
  {
   "cell_type": "code",
   "execution_count": 66,
   "metadata": {},
   "outputs": [
    {
     "data": {
      "text/html": [
       "<div>\n",
       "<style scoped>\n",
       "    .dataframe tbody tr th:only-of-type {\n",
       "        vertical-align: middle;\n",
       "    }\n",
       "\n",
       "    .dataframe tbody tr th {\n",
       "        vertical-align: top;\n",
       "    }\n",
       "\n",
       "    .dataframe thead th {\n",
       "        text-align: right;\n",
       "    }\n",
       "</style>\n",
       "<table border=\"1\" class=\"dataframe\">\n",
       "  <thead>\n",
       "    <tr style=\"text-align: right;\">\n",
       "      <th></th>\n",
       "      <th>fold</th>\n",
       "    </tr>\n",
       "    <tr>\n",
       "      <th>SOPInstanceUID</th>\n",
       "      <th></th>\n",
       "    </tr>\n",
       "  </thead>\n",
       "  <tbody>\n",
       "    <tr>\n",
       "      <td>ID_53e0c2d04</td>\n",
       "      <td>4</td>\n",
       "    </tr>\n",
       "    <tr>\n",
       "      <td>ID_ea32d6d6d</td>\n",
       "      <td>1</td>\n",
       "    </tr>\n",
       "    <tr>\n",
       "      <td>ID_434cabb4c</td>\n",
       "      <td>4</td>\n",
       "    </tr>\n",
       "    <tr>\n",
       "      <td>ID_22b3b726f</td>\n",
       "      <td>2</td>\n",
       "    </tr>\n",
       "    <tr>\n",
       "      <td>ID_cc10b6f55</td>\n",
       "      <td>1</td>\n",
       "    </tr>\n",
       "    <tr>\n",
       "      <td>...</td>\n",
       "      <td>...</td>\n",
       "    </tr>\n",
       "    <tr>\n",
       "      <td>ID_3579e1d1f</td>\n",
       "      <td>0</td>\n",
       "    </tr>\n",
       "    <tr>\n",
       "      <td>ID_bd7aaac7e</td>\n",
       "      <td>0</td>\n",
       "    </tr>\n",
       "    <tr>\n",
       "      <td>ID_8b23db3f4</td>\n",
       "      <td>2</td>\n",
       "    </tr>\n",
       "    <tr>\n",
       "      <td>ID_367cdeab9</td>\n",
       "      <td>4</td>\n",
       "    </tr>\n",
       "    <tr>\n",
       "      <td>ID_2827aa512</td>\n",
       "      <td>3</td>\n",
       "    </tr>\n",
       "  </tbody>\n",
       "</table>\n",
       "<p>78545 rows × 1 columns</p>\n",
       "</div>"
      ],
      "text/plain": [
       "                fold\n",
       "SOPInstanceUID      \n",
       "ID_53e0c2d04       4\n",
       "ID_ea32d6d6d       1\n",
       "ID_434cabb4c       4\n",
       "ID_22b3b726f       2\n",
       "ID_cc10b6f55       1\n",
       "...              ...\n",
       "ID_3579e1d1f       0\n",
       "ID_bd7aaac7e       0\n",
       "ID_8b23db3f4       2\n",
       "ID_367cdeab9       4\n",
       "ID_2827aa512       3\n",
       "\n",
       "[78545 rows x 1 columns]"
      ]
     },
     "execution_count": 66,
     "metadata": {},
     "output_type": "execute_result"
    }
   ],
   "source": [
    "folds_patients_test = folds_patients_test[['SOPInstanceUID', 'fold']]\n",
    "folds_patients_test = folds_patients_test.set_index('SOPInstanceUID')\n",
    "folds_patients_test"
   ]
  },
  {
   "cell_type": "code",
   "execution_count": 74,
   "metadata": {},
   "outputs": [
    {
     "data": {
      "text/html": [
       "<div>\n",
       "<style scoped>\n",
       "    .dataframe tbody tr th:only-of-type {\n",
       "        vertical-align: middle;\n",
       "    }\n",
       "\n",
       "    .dataframe tbody tr th {\n",
       "        vertical-align: top;\n",
       "    }\n",
       "\n",
       "    .dataframe thead th {\n",
       "        text-align: right;\n",
       "    }\n",
       "</style>\n",
       "<table border=\"1\" class=\"dataframe\">\n",
       "  <thead>\n",
       "    <tr style=\"text-align: right;\">\n",
       "      <th></th>\n",
       "      <th>any</th>\n",
       "      <th>epidural</th>\n",
       "      <th>intraparenchymal</th>\n",
       "      <th>intraventricular</th>\n",
       "      <th>subarachnoid</th>\n",
       "      <th>subdural</th>\n",
       "      <th>fold</th>\n",
       "      <th>study_id</th>\n",
       "      <th>slice_num</th>\n",
       "    </tr>\n",
       "    <tr>\n",
       "      <th>SOPInstanceUID</th>\n",
       "      <th></th>\n",
       "      <th></th>\n",
       "      <th></th>\n",
       "      <th></th>\n",
       "      <th></th>\n",
       "      <th></th>\n",
       "      <th></th>\n",
       "      <th></th>\n",
       "      <th></th>\n",
       "    </tr>\n",
       "  </thead>\n",
       "  <tbody>\n",
       "    <tr>\n",
       "      <td>ID_53e0c2d04</td>\n",
       "      <td>0</td>\n",
       "      <td>0</td>\n",
       "      <td>0</td>\n",
       "      <td>0</td>\n",
       "      <td>0</td>\n",
       "      <td>0</td>\n",
       "      <td>4</td>\n",
       "      <td>ID_a7f5df3dae</td>\n",
       "      <td>5</td>\n",
       "    </tr>\n",
       "  </tbody>\n",
       "</table>\n",
       "</div>"
      ],
      "text/plain": [
       "                any  epidural  intraparenchymal  intraventricular  \\\n",
       "SOPInstanceUID                                                      \n",
       "ID_53e0c2d04      0         0                 0                 0   \n",
       "\n",
       "                subarachnoid  subdural  fold       study_id  slice_num  \n",
       "SOPInstanceUID                                                          \n",
       "ID_53e0c2d04               0         0     4  ID_a7f5df3dae          5  "
      ]
     },
     "execution_count": 74,
     "metadata": {},
     "output_type": "execute_result"
    }
   ],
   "source": [
    "folds_test = pd.merge(test_labels_df, folds_patients_test, on=['SOPInstanceUID'])\n",
    "folds_test = pd.merge(folds_test, id_map, on=['SOPInstanceUID'])\n",
    "folds_test"
   ]
  },
  {
   "cell_type": "code",
   "execution_count": 75,
   "metadata": {},
   "outputs": [
    {
     "data": {
      "text/html": [
       "<div>\n",
       "<style scoped>\n",
       "    .dataframe tbody tr th:only-of-type {\n",
       "        vertical-align: middle;\n",
       "    }\n",
       "\n",
       "    .dataframe tbody tr th {\n",
       "        vertical-align: top;\n",
       "    }\n",
       "\n",
       "    .dataframe thead th {\n",
       "        text-align: right;\n",
       "    }\n",
       "</style>\n",
       "<table border=\"1\" class=\"dataframe\">\n",
       "  <thead>\n",
       "    <tr style=\"text-align: right;\">\n",
       "      <th></th>\n",
       "      <th>any</th>\n",
       "      <th>epidural</th>\n",
       "      <th>intraparenchymal</th>\n",
       "      <th>intraventricular</th>\n",
       "      <th>subarachnoid</th>\n",
       "      <th>subdural</th>\n",
       "      <th>path</th>\n",
       "      <th>fold</th>\n",
       "    </tr>\n",
       "  </thead>\n",
       "  <tbody>\n",
       "    <tr>\n",
       "      <td>0</td>\n",
       "      <td>0</td>\n",
       "      <td>0</td>\n",
       "      <td>0</td>\n",
       "      <td>0</td>\n",
       "      <td>0</td>\n",
       "      <td>0</td>\n",
       "      <td>rsna/test/ID_a7f5df3dae/npy/005.npy</td>\n",
       "      <td>4</td>\n",
       "    </tr>\n",
       "  </tbody>\n",
       "</table>\n",
       "</div>"
      ],
      "text/plain": [
       "   any  epidural  intraparenchymal  intraventricular  subarachnoid  subdural  \\\n",
       "0    0         0                 0                 0             0         0   \n",
       "\n",
       "                                  path  fold  \n",
       "0  rsna/test/ID_a7f5df3dae/npy/005.npy     4  "
      ]
     },
     "execution_count": 75,
     "metadata": {},
     "output_type": "execute_result"
    }
   ],
   "source": [
    "folds_test['path'] = folds_test.apply(lambda x : f'rsna/test/{x.study_id}/npy/{x.slice_num:03d}.npy', axis=1)\n",
    "folds_test = folds_test[['any', 'epidural', 'intraparenchymal', 'intraventricular', 'subarachnoid', 'subdural', 'path', 'fold']]\n",
    "folds_test = folds_test.reset_index(drop=True)\n",
    "folds_test"
   ]
  },
  {
   "cell_type": "code",
   "execution_count": 80,
   "metadata": {},
   "outputs": [],
   "source": [
    "folds_orig_test_appended = pd.concat([folds_orig, folds_test])\n",
    "folds_corrected_test_appended = pd.concat([folds_corrected, folds_test])"
   ]
  },
  {
   "cell_type": "code",
   "execution_count": 82,
   "metadata": {},
   "outputs": [],
   "source": [
    "folds_orig_test_appended.to_csv('5fold-test.csv', index=False)\n",
    "folds_corrected_test_appended.to_csv('5fold-test-rev3.csv', index=False)"
   ]
  },
  {
   "cell_type": "code",
   "execution_count": null,
   "metadata": {},
   "outputs": [],
   "source": []
  }
 ],
 "metadata": {
  "kernelspec": {
   "display_name": "Python3 (ct)",
   "language": "python",
   "name": "ct"
  },
  "language_info": {
   "codemirror_mode": {
    "name": "ipython",
    "version": 3
   },
   "file_extension": ".py",
   "mimetype": "text/x-python",
   "name": "python",
   "nbconvert_exporter": "python",
   "pygments_lexer": "ipython3",
   "version": "3.6.8"
  }
 },
 "nbformat": 4,
 "nbformat_minor": 2
}
