{
 "cells": [
  {
   "cell_type": "code",
   "execution_count": 1,
   "metadata": {},
   "outputs": [],
   "source": [
    "import torch\n",
    "from torch.nn import functional as F\n",
    "import numpy as np\n",
    "# from tqdm import tqdm_notebook as tqdm\n",
    "from tqdm import tqdm\n",
    "from rsna19.configs.second_level import Config\n",
    "from sklearn.metrics import log_loss\n",
    "import pandas as pd\n",
    "from scipy.signal import windows"
   ]
  },
  {
   "cell_type": "code",
   "execution_count": 2,
   "metadata": {},
   "outputs": [],
   "source": [
    "# train_folds = [0, 1, 2, 3] # for testing \n",
    "train_folds = [0, 1, 2, 3, 4]  # for stage 2 submission\n",
    "val_folds = [4]\n",
    "\n",
    "cache_dir = '/home/dmytro/ml/kaggle-rsna-2019/output/cache_stage2'\n",
    "\n",
    "train_x = torch.cat([torch.tensor(np.load(f'{cache_dir}/fold{f}/x.npy'), dtype=torch.float32) for f in train_folds], dim=0)\n",
    "train_y = torch.cat([torch.tensor(np.load(f'{cache_dir}/fold{f}/y.npy'), dtype=torch.float32) for f in train_folds], dim=0)\n",
    "val_x = torch.cat([torch.tensor(np.load(f'{cache_dir}/fold{f}/x.npy'), dtype=torch.float32) for f in val_folds], dim=0)\n",
    "val_y = torch.cat([torch.tensor(np.load(f'{cache_dir}/fold{f}/y.npy'), dtype=torch.float32) for f in val_folds], dim=0)\n",
    "\n",
    "n_models = 11\n",
    "class_weights = torch.tensor([1, 1, 1, 1, 1, 2], dtype=torch.float32) * 6 / 7\n",
    "loss_fn = F.binary_cross_entropy"
   ]
  },
  {
   "cell_type": "code",
   "execution_count": 3,
   "metadata": {},
   "outputs": [],
   "source": [
    "# undo sigmoid\n",
    "\n",
    "# train_x[train_x > 0] = torch.log(train_x[train_x > 0] / (1-train_x[train_x > 0]))\n",
    "# val_x[val_x > 0] = torch.log(val_x[val_x > 0] / (1-val_x[val_x > 0]))\n",
    "# loss_fn = F.binary_cross_entropy_with_logits"
   ]
  },
  {
   "cell_type": "code",
   "execution_count": 4,
   "metadata": {},
   "outputs": [
    {
     "name": "stdout",
     "output_type": "stream",
     "text": [
      "train\n",
      "model 0: 0.06121179461479187\n",
      "model 1: 0.06256157159805298\n",
      "model 2: 0.06239280849695206\n",
      "model 3: 0.06186671555042267\n",
      "model 4: 0.06123921647667885\n",
      "model 5: 0.06273935735225677\n",
      "model 6: 0.06325805187225342\n",
      "model 7: 0.060901932418346405\n",
      "model 8: 0.060555413365364075\n",
      "model 9: 0.06571821123361588\n",
      "model 10: 0.06511762738227844\n",
      "averaged ensemble: 0.05699021369218826\n",
      "\n",
      "val\n",
      "model 0: 0.061941273510456085\n",
      "model 1: 0.06328877061605453\n",
      "model 2: 0.06281528621912003\n",
      "model 3: 0.06388996541500092\n",
      "model 4: 0.06146755814552307\n",
      "model 5: 0.06464578211307526\n",
      "model 6: 0.06419891119003296\n",
      "model 7: 0.0613483302295208\n",
      "model 8: 0.0610339418053627\n",
      "model 9: 0.06970273703336716\n",
      "model 10: 0.06656711548566818\n",
      "averaged ensemble: 0.05792373791337013\n"
     ]
    }
   ],
   "source": [
    "print('train')\n",
    "preds = []\n",
    "for model_id in range(n_models):\n",
    "    preds.append(train_x[:, model_id*30+12:model_id*30+18])\n",
    "    loss = loss_fn(preds[-1], train_y, weight=class_weights)\n",
    "    print(f'model {model_id}: {loss}')\n",
    "\n",
    "mean_preds = torch.mean(torch.stack(preds), dim=0)\n",
    "loss = loss_fn(mean_preds, train_y, weight=class_weights)\n",
    "print(f'averaged ensemble: {loss}')\n",
    "\n",
    "print('\\nval')\n",
    "preds = []\n",
    "for model_id in range(n_models):\n",
    "    preds.append(val_x[:, model_id*30+12:model_id*30+18])\n",
    "    loss = loss_fn(preds[-1], val_y, weight=class_weights)\n",
    "    print(f'model {model_id}: {loss}')\n",
    "\n",
    "mean_preds = torch.mean(torch.stack(preds), dim=0)\n",
    "loss = loss_fn(mean_preds, val_y, weight=class_weights)\n",
    "print(f'averaged ensemble: {loss}')"
   ]
  },
  {
   "cell_type": "code",
   "execution_count": 5,
   "metadata": {},
   "outputs": [],
   "source": [
    "# train on middle slice only\n",
    "\n",
    "# train_x_1slice = []\n",
    "# for model_id in range(n_models):\n",
    "#     train_x_1slice.append(train_x[:, model_id*30+12:model_id*30+18])\n",
    "# train_x_1slice = torch.cat(train_x_1slice, dim=1)\n",
    "\n",
    "# val_x_1slice = []\n",
    "# for model_id in range(n_models):\n",
    "#     val_x_1slice.append(val_x[:, model_id*30+12:model_id*30+18])\n",
    "# val_x_1slice = torch.cat(val_x_1slice, dim=1)\n",
    "\n",
    "# train_x = train_x_1slice\n",
    "# val_x = val_x_1slice"
   ]
  },
  {
   "cell_type": "code",
   "execution_count": 6,
   "metadata": {
    "scrolled": false
   },
   "outputs": [
    {
     "name": "stdout",
     "output_type": "stream",
     "text": [
      "torch.Size([6, 330])\n"
     ]
    },
    {
     "name": "stderr",
     "output_type": "stream",
     "text": [
      "  0%|          | 22/10000 [00:00<01:36, 103.51it/s]"
     ]
    },
    {
     "name": "stdout",
     "output_type": "stream",
     "text": [
      "0000: train: 0.1286, val: 0.1292\n"
     ]
    },
    {
     "name": "stderr",
     "output_type": "stream",
     "text": [
      "  1%|          | 121/10000 [00:01<01:36, 102.66it/s]"
     ]
    },
    {
     "name": "stdout",
     "output_type": "stream",
     "text": [
      "0100: train: 0.1133, val: 0.1138\n"
     ]
    },
    {
     "name": "stderr",
     "output_type": "stream",
     "text": [
      "  2%|▏         | 220/10000 [00:02<01:35, 102.62it/s]"
     ]
    },
    {
     "name": "stdout",
     "output_type": "stream",
     "text": [
      "0200: train: 0.0947, val: 0.0951\n"
     ]
    },
    {
     "name": "stderr",
     "output_type": "stream",
     "text": [
      "  3%|▎         | 319/10000 [00:03<01:34, 102.94it/s]"
     ]
    },
    {
     "name": "stdout",
     "output_type": "stream",
     "text": [
      "0300: train: 0.0738, val: 0.0742\n"
     ]
    },
    {
     "name": "stderr",
     "output_type": "stream",
     "text": [
      "  4%|▍         | 418/10000 [00:04<01:33, 102.60it/s]"
     ]
    },
    {
     "name": "stdout",
     "output_type": "stream",
     "text": [
      "0400: train: 0.0640, val: 0.0646\n"
     ]
    },
    {
     "name": "stderr",
     "output_type": "stream",
     "text": [
      "  5%|▌         | 517/10000 [00:05<01:32, 102.57it/s]"
     ]
    },
    {
     "name": "stdout",
     "output_type": "stream",
     "text": [
      "0500: train: 0.0627, val: 0.0634\n"
     ]
    },
    {
     "name": "stderr",
     "output_type": "stream",
     "text": [
      "  6%|▌         | 616/10000 [00:05<01:31, 102.57it/s]"
     ]
    },
    {
     "name": "stdout",
     "output_type": "stream",
     "text": [
      "0600: train: 0.0622, val: 0.0629\n"
     ]
    },
    {
     "name": "stderr",
     "output_type": "stream",
     "text": [
      "  7%|▋         | 715/10000 [00:06<01:30, 102.56it/s]"
     ]
    },
    {
     "name": "stdout",
     "output_type": "stream",
     "text": [
      "0700: train: 0.0617, val: 0.0624\n"
     ]
    },
    {
     "name": "stderr",
     "output_type": "stream",
     "text": [
      "  8%|▊         | 814/10000 [00:07<01:29, 102.42it/s]"
     ]
    },
    {
     "name": "stdout",
     "output_type": "stream",
     "text": [
      "0800: train: 0.0611, val: 0.0618\n"
     ]
    },
    {
     "name": "stderr",
     "output_type": "stream",
     "text": [
      "  9%|▉         | 913/10000 [00:08<01:28, 102.43it/s]"
     ]
    },
    {
     "name": "stdout",
     "output_type": "stream",
     "text": [
      "0900: train: 0.0606, val: 0.0613\n"
     ]
    },
    {
     "name": "stderr",
     "output_type": "stream",
     "text": [
      " 10%|█         | 1012/10000 [00:09<01:27, 103.02it/s]"
     ]
    },
    {
     "name": "stdout",
     "output_type": "stream",
     "text": [
      "1000: train: 0.0602, val: 0.0608\n"
     ]
    },
    {
     "name": "stderr",
     "output_type": "stream",
     "text": [
      " 11%|█         | 1122/10000 [00:10<01:26, 102.48it/s]"
     ]
    },
    {
     "name": "stdout",
     "output_type": "stream",
     "text": [
      "1100: train: 0.0597, val: 0.0604\n"
     ]
    },
    {
     "name": "stderr",
     "output_type": "stream",
     "text": [
      " 12%|█▏        | 1221/10000 [00:11<01:25, 102.56it/s]"
     ]
    },
    {
     "name": "stdout",
     "output_type": "stream",
     "text": [
      "1200: train: 0.0593, val: 0.0599\n"
     ]
    },
    {
     "name": "stderr",
     "output_type": "stream",
     "text": [
      " 13%|█▎        | 1320/10000 [00:12<01:24, 102.60it/s]"
     ]
    },
    {
     "name": "stdout",
     "output_type": "stream",
     "text": [
      "1300: train: 0.0589, val: 0.0596\n"
     ]
    },
    {
     "name": "stderr",
     "output_type": "stream",
     "text": [
      " 14%|█▍        | 1419/10000 [00:13<01:24, 102.08it/s]"
     ]
    },
    {
     "name": "stdout",
     "output_type": "stream",
     "text": [
      "1400: train: 0.0587, val: 0.0593\n"
     ]
    },
    {
     "name": "stderr",
     "output_type": "stream",
     "text": [
      " 15%|█▌        | 1518/10000 [00:14<01:24, 100.94it/s]"
     ]
    },
    {
     "name": "stdout",
     "output_type": "stream",
     "text": [
      "1500: train: 0.0585, val: 0.0591\n"
     ]
    },
    {
     "name": "stderr",
     "output_type": "stream",
     "text": [
      " 16%|█▌        | 1617/10000 [00:15<01:22, 101.89it/s]"
     ]
    },
    {
     "name": "stdout",
     "output_type": "stream",
     "text": [
      "1600: train: 0.0583, val: 0.0589\n"
     ]
    },
    {
     "name": "stderr",
     "output_type": "stream",
     "text": [
      " 17%|█▋        | 1716/10000 [00:16<01:21, 101.56it/s]"
     ]
    },
    {
     "name": "stdout",
     "output_type": "stream",
     "text": [
      "1700: train: 0.0581, val: 0.0587\n"
     ]
    },
    {
     "name": "stderr",
     "output_type": "stream",
     "text": [
      " 18%|█▊        | 1815/10000 [00:17<01:21, 101.05it/s]"
     ]
    },
    {
     "name": "stdout",
     "output_type": "stream",
     "text": [
      "1800: train: 0.0579, val: 0.0585\n"
     ]
    },
    {
     "name": "stderr",
     "output_type": "stream",
     "text": [
      " 19%|█▉        | 1914/10000 [00:18<01:20, 101.03it/s]"
     ]
    },
    {
     "name": "stdout",
     "output_type": "stream",
     "text": [
      "1900: train: 0.0577, val: 0.0583\n"
     ]
    },
    {
     "name": "stderr",
     "output_type": "stream",
     "text": [
      " 20%|██        | 2013/10000 [00:19<01:18, 101.22it/s]"
     ]
    },
    {
     "name": "stdout",
     "output_type": "stream",
     "text": [
      "2000: train: 0.0576, val: 0.0582\n"
     ]
    },
    {
     "name": "stderr",
     "output_type": "stream",
     "text": [
      " 21%|██        | 2112/10000 [00:20<01:17, 102.04it/s]"
     ]
    },
    {
     "name": "stdout",
     "output_type": "stream",
     "text": [
      "2100: train: 0.0574, val: 0.0580\n"
     ]
    },
    {
     "name": "stderr",
     "output_type": "stream",
     "text": [
      " 22%|██▏       | 2211/10000 [00:21<01:16, 101.98it/s]"
     ]
    },
    {
     "name": "stdout",
     "output_type": "stream",
     "text": [
      "2200: train: 0.0573, val: 0.0579\n"
     ]
    },
    {
     "name": "stderr",
     "output_type": "stream",
     "text": [
      " 23%|██▎       | 2321/10000 [00:22<01:15, 102.09it/s]"
     ]
    },
    {
     "name": "stdout",
     "output_type": "stream",
     "text": [
      "2300: train: 0.0573, val: 0.0579\n"
     ]
    },
    {
     "name": "stderr",
     "output_type": "stream",
     "text": [
      " 24%|██▍       | 2420/10000 [00:23<01:14, 101.97it/s]"
     ]
    },
    {
     "name": "stdout",
     "output_type": "stream",
     "text": [
      "2400: train: 0.0572, val: 0.0578\n"
     ]
    },
    {
     "name": "stderr",
     "output_type": "stream",
     "text": [
      " 25%|██▌       | 2519/10000 [00:24<01:13, 102.22it/s]"
     ]
    },
    {
     "name": "stdout",
     "output_type": "stream",
     "text": [
      "2500: train: 0.0572, val: 0.0578\n"
     ]
    },
    {
     "name": "stderr",
     "output_type": "stream",
     "text": [
      " 26%|██▌       | 2618/10000 [00:25<01:12, 101.99it/s]"
     ]
    },
    {
     "name": "stdout",
     "output_type": "stream",
     "text": [
      "2600: train: 0.0572, val: 0.0578\n"
     ]
    },
    {
     "name": "stderr",
     "output_type": "stream",
     "text": [
      " 27%|██▋       | 2717/10000 [00:26<01:11, 101.44it/s]"
     ]
    },
    {
     "name": "stdout",
     "output_type": "stream",
     "text": [
      "2700: train: 0.0572, val: 0.0578\n"
     ]
    },
    {
     "name": "stderr",
     "output_type": "stream",
     "text": [
      " 28%|██▊       | 2816/10000 [00:27<01:10, 102.17it/s]"
     ]
    },
    {
     "name": "stdout",
     "output_type": "stream",
     "text": [
      "2800: train: 0.0572, val: 0.0577\n"
     ]
    },
    {
     "name": "stderr",
     "output_type": "stream",
     "text": [
      " 29%|██▉       | 2915/10000 [00:28<01:09, 101.79it/s]"
     ]
    },
    {
     "name": "stdout",
     "output_type": "stream",
     "text": [
      "2900: train: 0.0571, val: 0.0577\n"
     ]
    },
    {
     "name": "stderr",
     "output_type": "stream",
     "text": [
      " 30%|███       | 3014/10000 [00:29<01:08, 102.05it/s]"
     ]
    },
    {
     "name": "stdout",
     "output_type": "stream",
     "text": [
      "3000: train: 0.0571, val: 0.0577\n"
     ]
    },
    {
     "name": "stderr",
     "output_type": "stream",
     "text": [
      " 31%|███       | 3113/10000 [00:30<01:07, 102.12it/s]"
     ]
    },
    {
     "name": "stdout",
     "output_type": "stream",
     "text": [
      "3100: train: 0.0571, val: 0.0577\n"
     ]
    },
    {
     "name": "stderr",
     "output_type": "stream",
     "text": [
      " 32%|███▏      | 3212/10000 [00:31<01:06, 102.42it/s]"
     ]
    },
    {
     "name": "stdout",
     "output_type": "stream",
     "text": [
      "3200: train: 0.0571, val: 0.0577\n"
     ]
    },
    {
     "name": "stderr",
     "output_type": "stream",
     "text": [
      " 33%|███▎      | 3322/10000 [00:32<01:05, 102.25it/s]"
     ]
    },
    {
     "name": "stdout",
     "output_type": "stream",
     "text": [
      "3300: train: 0.0571, val: 0.0577\n"
     ]
    },
    {
     "name": "stderr",
     "output_type": "stream",
     "text": [
      " 34%|███▍      | 3421/10000 [00:33<01:04, 102.19it/s]"
     ]
    },
    {
     "name": "stdout",
     "output_type": "stream",
     "text": [
      "3400: train: 0.0571, val: 0.0577\n"
     ]
    },
    {
     "name": "stderr",
     "output_type": "stream",
     "text": [
      " 35%|███▌      | 3520/10000 [00:34<01:03, 102.18it/s]"
     ]
    },
    {
     "name": "stdout",
     "output_type": "stream",
     "text": [
      "3500: train: 0.0571, val: 0.0577\n"
     ]
    },
    {
     "name": "stderr",
     "output_type": "stream",
     "text": [
      " 36%|███▌      | 3619/10000 [00:35<01:02, 102.11it/s]"
     ]
    },
    {
     "name": "stdout",
     "output_type": "stream",
     "text": [
      "3600: train: 0.0571, val: 0.0577\n"
     ]
    },
    {
     "name": "stderr",
     "output_type": "stream",
     "text": [
      " 37%|███▋      | 3718/10000 [00:36<01:01, 101.89it/s]"
     ]
    },
    {
     "name": "stdout",
     "output_type": "stream",
     "text": [
      "3700: train: 0.0571, val: 0.0577\n"
     ]
    },
    {
     "name": "stderr",
     "output_type": "stream",
     "text": [
      " 38%|███▊      | 3817/10000 [00:37<01:00, 101.89it/s]"
     ]
    },
    {
     "name": "stdout",
     "output_type": "stream",
     "text": [
      "3800: train: 0.0571, val: 0.0576\n"
     ]
    },
    {
     "name": "stderr",
     "output_type": "stream",
     "text": [
      " 39%|███▉      | 3916/10000 [00:38<00:59, 101.84it/s]"
     ]
    },
    {
     "name": "stdout",
     "output_type": "stream",
     "text": [
      "3900: train: 0.0571, val: 0.0576\n"
     ]
    },
    {
     "name": "stderr",
     "output_type": "stream",
     "text": [
      " 40%|████      | 4015/10000 [00:39<00:58, 102.11it/s]"
     ]
    },
    {
     "name": "stdout",
     "output_type": "stream",
     "text": [
      "4000: train: 0.0571, val: 0.0576\n"
     ]
    },
    {
     "name": "stderr",
     "output_type": "stream",
     "text": [
      " 41%|████      | 4114/10000 [00:40<00:57, 102.07it/s]"
     ]
    },
    {
     "name": "stdout",
     "output_type": "stream",
     "text": [
      "4100: train: 0.0571, val: 0.0576\n"
     ]
    },
    {
     "name": "stderr",
     "output_type": "stream",
     "text": [
      " 42%|████▏     | 4213/10000 [00:41<00:56, 102.03it/s]"
     ]
    },
    {
     "name": "stdout",
     "output_type": "stream",
     "text": [
      "4200: train: 0.0571, val: 0.0576\n"
     ]
    },
    {
     "name": "stderr",
     "output_type": "stream",
     "text": [
      " 43%|████▎     | 4312/10000 [00:42<00:55, 102.22it/s]"
     ]
    },
    {
     "name": "stdout",
     "output_type": "stream",
     "text": [
      "4300: train: 0.0570, val: 0.0576\n"
     ]
    },
    {
     "name": "stderr",
     "output_type": "stream",
     "text": [
      " 44%|████▍     | 4422/10000 [00:43<00:54, 101.89it/s]"
     ]
    },
    {
     "name": "stdout",
     "output_type": "stream",
     "text": [
      "4400: train: 0.0570, val: 0.0576\n"
     ]
    },
    {
     "name": "stderr",
     "output_type": "stream",
     "text": [
      " 45%|████▌     | 4521/10000 [00:44<00:53, 102.11it/s]"
     ]
    },
    {
     "name": "stdout",
     "output_type": "stream",
     "text": [
      "4500: train: 0.0570, val: 0.0576\n"
     ]
    },
    {
     "name": "stderr",
     "output_type": "stream",
     "text": [
      " 46%|████▌     | 4620/10000 [00:45<00:52, 102.10it/s]"
     ]
    },
    {
     "name": "stdout",
     "output_type": "stream",
     "text": [
      "4600: train: 0.0570, val: 0.0576\n"
     ]
    },
    {
     "name": "stderr",
     "output_type": "stream",
     "text": [
      " 47%|████▋     | 4719/10000 [00:46<00:51, 102.11it/s]"
     ]
    },
    {
     "name": "stdout",
     "output_type": "stream",
     "text": [
      "4700: train: 0.0570, val: 0.0576\n"
     ]
    },
    {
     "name": "stderr",
     "output_type": "stream",
     "text": [
      " 48%|████▊     | 4818/10000 [00:47<00:51, 101.36it/s]"
     ]
    },
    {
     "name": "stdout",
     "output_type": "stream",
     "text": [
      "4800: train: 0.0570, val: 0.0576\n"
     ]
    },
    {
     "name": "stderr",
     "output_type": "stream",
     "text": [
      " 49%|████▉     | 4917/10000 [00:48<00:50, 101.24it/s]"
     ]
    },
    {
     "name": "stdout",
     "output_type": "stream",
     "text": [
      "4900: train: 0.0570, val: 0.0576\n"
     ]
    },
    {
     "name": "stderr",
     "output_type": "stream",
     "text": [
      " 50%|█████     | 5016/10000 [00:49<00:49, 101.46it/s]"
     ]
    },
    {
     "name": "stdout",
     "output_type": "stream",
     "text": [
      "5000: train: 0.0570, val: 0.0576\n"
     ]
    },
    {
     "name": "stderr",
     "output_type": "stream",
     "text": [
      " 51%|█████     | 5115/10000 [00:50<00:48, 101.58it/s]"
     ]
    },
    {
     "name": "stdout",
     "output_type": "stream",
     "text": [
      "5100: train: 0.0570, val: 0.0576\n"
     ]
    },
    {
     "name": "stderr",
     "output_type": "stream",
     "text": [
      " 52%|█████▏    | 5214/10000 [00:51<00:47, 101.68it/s]"
     ]
    },
    {
     "name": "stdout",
     "output_type": "stream",
     "text": [
      "5200: train: 0.0570, val: 0.0576\n"
     ]
    },
    {
     "name": "stderr",
     "output_type": "stream",
     "text": [
      " 53%|█████▎    | 5313/10000 [00:52<00:46, 101.63it/s]"
     ]
    },
    {
     "name": "stdout",
     "output_type": "stream",
     "text": [
      "5300: train: 0.0570, val: 0.0576\n"
     ]
    },
    {
     "name": "stderr",
     "output_type": "stream",
     "text": [
      " 54%|█████▍    | 5412/10000 [00:53<00:44, 102.07it/s]"
     ]
    },
    {
     "name": "stdout",
     "output_type": "stream",
     "text": [
      "5400: train: 0.0570, val: 0.0576\n"
     ]
    },
    {
     "name": "stderr",
     "output_type": "stream",
     "text": [
      " 55%|█████▌    | 5511/10000 [00:53<00:44, 101.66it/s]"
     ]
    },
    {
     "name": "stdout",
     "output_type": "stream",
     "text": [
      "5500: train: 0.0570, val: 0.0576\n"
     ]
    },
    {
     "name": "stderr",
     "output_type": "stream",
     "text": [
      " 56%|█████▌    | 5621/10000 [00:55<00:43, 101.80it/s]"
     ]
    },
    {
     "name": "stdout",
     "output_type": "stream",
     "text": [
      "5600: train: 0.0570, val: 0.0576\n"
     ]
    },
    {
     "name": "stderr",
     "output_type": "stream",
     "text": [
      " 57%|█████▋    | 5720/10000 [00:56<00:42, 101.65it/s]"
     ]
    },
    {
     "name": "stdout",
     "output_type": "stream",
     "text": [
      "5700: train: 0.0570, val: 0.0576\n"
     ]
    },
    {
     "name": "stderr",
     "output_type": "stream",
     "text": [
      " 58%|█████▊    | 5819/10000 [00:57<00:41, 100.97it/s]"
     ]
    },
    {
     "name": "stdout",
     "output_type": "stream",
     "text": [
      "5800: train: 0.0570, val: 0.0576\n"
     ]
    },
    {
     "name": "stderr",
     "output_type": "stream",
     "text": [
      " 59%|█████▉    | 5918/10000 [00:58<00:40, 99.96it/s] "
     ]
    },
    {
     "name": "stdout",
     "output_type": "stream",
     "text": [
      "5900: train: 0.0570, val: 0.0576\n"
     ]
    },
    {
     "name": "stderr",
     "output_type": "stream",
     "text": [
      " 60%|██████    | 6017/10000 [00:58<00:39, 101.66it/s]"
     ]
    },
    {
     "name": "stdout",
     "output_type": "stream",
     "text": [
      "6000: train: 0.0570, val: 0.0576\n"
     ]
    },
    {
     "name": "stderr",
     "output_type": "stream",
     "text": [
      " 61%|██████    | 6116/10000 [00:59<00:38, 101.73it/s]"
     ]
    },
    {
     "name": "stdout",
     "output_type": "stream",
     "text": [
      "6100: train: 0.0570, val: 0.0576\n"
     ]
    },
    {
     "name": "stderr",
     "output_type": "stream",
     "text": [
      " 62%|██████▏   | 6215/10000 [01:00<00:37, 101.78it/s]"
     ]
    },
    {
     "name": "stdout",
     "output_type": "stream",
     "text": [
      "6200: train: 0.0570, val: 0.0576\n"
     ]
    },
    {
     "name": "stderr",
     "output_type": "stream",
     "text": [
      " 63%|██████▎   | 6314/10000 [01:01<00:36, 101.56it/s]"
     ]
    },
    {
     "name": "stdout",
     "output_type": "stream",
     "text": [
      "6300: train: 0.0570, val: 0.0576\n"
     ]
    },
    {
     "name": "stderr",
     "output_type": "stream",
     "text": [
      " 64%|██████▍   | 6413/10000 [01:02<00:35, 101.37it/s]"
     ]
    },
    {
     "name": "stdout",
     "output_type": "stream",
     "text": [
      "6400: train: 0.0570, val: 0.0576\n"
     ]
    },
    {
     "name": "stderr",
     "output_type": "stream",
     "text": [
      " 65%|██████▌   | 6512/10000 [01:03<00:34, 101.75it/s]"
     ]
    },
    {
     "name": "stdout",
     "output_type": "stream",
     "text": [
      "6500: train: 0.0570, val: 0.0576\n"
     ]
    },
    {
     "name": "stderr",
     "output_type": "stream",
     "text": [
      " 66%|██████▌   | 6611/10000 [01:04<00:33, 101.52it/s]"
     ]
    },
    {
     "name": "stdout",
     "output_type": "stream",
     "text": [
      "6600: train: 0.0570, val: 0.0576\n"
     ]
    },
    {
     "name": "stderr",
     "output_type": "stream",
     "text": [
      " 67%|██████▋   | 6721/10000 [01:05<00:32, 101.68it/s]"
     ]
    },
    {
     "name": "stdout",
     "output_type": "stream",
     "text": [
      "6700: train: 0.0570, val: 0.0576\n"
     ]
    },
    {
     "name": "stderr",
     "output_type": "stream",
     "text": [
      " 68%|██████▊   | 6820/10000 [01:06<00:31, 101.49it/s]"
     ]
    },
    {
     "name": "stdout",
     "output_type": "stream",
     "text": [
      "6800: train: 0.0570, val: 0.0576\n"
     ]
    },
    {
     "name": "stderr",
     "output_type": "stream",
     "text": [
      " 69%|██████▉   | 6919/10000 [01:07<00:30, 101.79it/s]"
     ]
    },
    {
     "name": "stdout",
     "output_type": "stream",
     "text": [
      "6900: train: 0.0570, val: 0.0576\n"
     ]
    },
    {
     "name": "stderr",
     "output_type": "stream",
     "text": [
      " 70%|███████   | 7018/10000 [01:08<00:29, 102.02it/s]"
     ]
    },
    {
     "name": "stdout",
     "output_type": "stream",
     "text": [
      "7000: train: 0.0570, val: 0.0576\n"
     ]
    },
    {
     "name": "stderr",
     "output_type": "stream",
     "text": [
      " 71%|███████   | 7117/10000 [01:09<00:28, 100.88it/s]"
     ]
    },
    {
     "name": "stdout",
     "output_type": "stream",
     "text": [
      "7100: train: 0.0570, val: 0.0576\n"
     ]
    },
    {
     "name": "stderr",
     "output_type": "stream",
     "text": [
      " 72%|███████▏  | 7216/10000 [01:10<00:27, 100.82it/s]"
     ]
    },
    {
     "name": "stdout",
     "output_type": "stream",
     "text": [
      "7200: train: 0.0570, val: 0.0576\n"
     ]
    },
    {
     "name": "stderr",
     "output_type": "stream",
     "text": [
      " 73%|███████▎  | 7315/10000 [01:11<00:26, 102.02it/s]"
     ]
    },
    {
     "name": "stdout",
     "output_type": "stream",
     "text": [
      "7300: train: 0.0570, val: 0.0576\n"
     ]
    },
    {
     "name": "stderr",
     "output_type": "stream",
     "text": [
      " 74%|███████▍  | 7414/10000 [01:12<00:25, 102.24it/s]"
     ]
    },
    {
     "name": "stdout",
     "output_type": "stream",
     "text": [
      "7400: train: 0.0570, val: 0.0576\n"
     ]
    },
    {
     "name": "stderr",
     "output_type": "stream",
     "text": [
      " 75%|███████▌  | 7513/10000 [01:13<00:24, 102.05it/s]"
     ]
    },
    {
     "name": "stdout",
     "output_type": "stream",
     "text": [
      "7500: train: 0.0570, val: 0.0576\n"
     ]
    },
    {
     "name": "stderr",
     "output_type": "stream",
     "text": [
      " 76%|███████▌  | 7612/10000 [01:14<00:23, 101.70it/s]"
     ]
    },
    {
     "name": "stdout",
     "output_type": "stream",
     "text": [
      "7600: train: 0.0570, val: 0.0576\n"
     ]
    },
    {
     "name": "stderr",
     "output_type": "stream",
     "text": [
      " 77%|███████▋  | 7711/10000 [01:15<00:22, 100.90it/s]"
     ]
    },
    {
     "name": "stdout",
     "output_type": "stream",
     "text": [
      "7700: train: 0.0570, val: 0.0576\n"
     ]
    },
    {
     "name": "stderr",
     "output_type": "stream",
     "text": [
      " 78%|███████▊  | 7821/10000 [01:16<00:21, 100.88it/s]"
     ]
    },
    {
     "name": "stdout",
     "output_type": "stream",
     "text": [
      "7800: train: 0.0570, val: 0.0576\n"
     ]
    },
    {
     "name": "stderr",
     "output_type": "stream",
     "text": [
      " 79%|███████▉  | 7920/10000 [01:17<00:20, 101.28it/s]"
     ]
    },
    {
     "name": "stdout",
     "output_type": "stream",
     "text": [
      "7900: train: 0.0570, val: 0.0576\n"
     ]
    },
    {
     "name": "stderr",
     "output_type": "stream",
     "text": [
      " 80%|████████  | 8019/10000 [01:18<00:19, 101.79it/s]"
     ]
    },
    {
     "name": "stdout",
     "output_type": "stream",
     "text": [
      "8000: train: 0.0570, val: 0.0576\n"
     ]
    },
    {
     "name": "stderr",
     "output_type": "stream",
     "text": [
      " 81%|████████  | 8118/10000 [01:19<00:18, 101.69it/s]"
     ]
    },
    {
     "name": "stdout",
     "output_type": "stream",
     "text": [
      "8100: train: 0.0570, val: 0.0576\n"
     ]
    },
    {
     "name": "stderr",
     "output_type": "stream",
     "text": [
      " 82%|████████▏ | 8217/10000 [01:20<00:17, 101.26it/s]"
     ]
    },
    {
     "name": "stdout",
     "output_type": "stream",
     "text": [
      "8200: train: 0.0570, val: 0.0576\n"
     ]
    },
    {
     "name": "stderr",
     "output_type": "stream",
     "text": [
      " 83%|████████▎ | 8316/10000 [01:21<00:16, 101.81it/s]"
     ]
    },
    {
     "name": "stdout",
     "output_type": "stream",
     "text": [
      "8300: train: 0.0570, val: 0.0576\n"
     ]
    },
    {
     "name": "stderr",
     "output_type": "stream",
     "text": [
      " 84%|████████▍ | 8415/10000 [01:22<00:15, 101.56it/s]"
     ]
    },
    {
     "name": "stdout",
     "output_type": "stream",
     "text": [
      "8400: train: 0.0570, val: 0.0576\n"
     ]
    },
    {
     "name": "stderr",
     "output_type": "stream",
     "text": [
      " 85%|████████▌ | 8514/10000 [01:23<00:14, 101.49it/s]"
     ]
    },
    {
     "name": "stdout",
     "output_type": "stream",
     "text": [
      "8500: train: 0.0570, val: 0.0576\n"
     ]
    },
    {
     "name": "stderr",
     "output_type": "stream",
     "text": [
      " 86%|████████▌ | 8613/10000 [01:24<00:13, 101.45it/s]"
     ]
    },
    {
     "name": "stdout",
     "output_type": "stream",
     "text": [
      "8600: train: 0.0570, val: 0.0576\n"
     ]
    },
    {
     "name": "stderr",
     "output_type": "stream",
     "text": [
      " 87%|████████▋ | 8712/10000 [01:25<00:12, 102.03it/s]"
     ]
    },
    {
     "name": "stdout",
     "output_type": "stream",
     "text": [
      "8700: train: 0.0570, val: 0.0576\n"
     ]
    },
    {
     "name": "stderr",
     "output_type": "stream",
     "text": [
      " 88%|████████▊ | 8811/10000 [01:26<00:11, 101.55it/s]"
     ]
    },
    {
     "name": "stdout",
     "output_type": "stream",
     "text": [
      "8800: train: 0.0570, val: 0.0576\n"
     ]
    },
    {
     "name": "stderr",
     "output_type": "stream",
     "text": [
      " 89%|████████▉ | 8921/10000 [01:27<00:10, 101.61it/s]"
     ]
    },
    {
     "name": "stdout",
     "output_type": "stream",
     "text": [
      "8900: train: 0.0570, val: 0.0576\n"
     ]
    },
    {
     "name": "stderr",
     "output_type": "stream",
     "text": [
      " 90%|█████████ | 9020/10000 [01:28<00:09, 101.89it/s]"
     ]
    },
    {
     "name": "stdout",
     "output_type": "stream",
     "text": [
      "9000: train: 0.0570, val: 0.0575\n"
     ]
    },
    {
     "name": "stderr",
     "output_type": "stream",
     "text": [
      " 91%|█████████ | 9119/10000 [01:29<00:08, 101.64it/s]"
     ]
    },
    {
     "name": "stdout",
     "output_type": "stream",
     "text": [
      "9100: train: 0.0570, val: 0.0576\n"
     ]
    },
    {
     "name": "stderr",
     "output_type": "stream",
     "text": [
      " 92%|█████████▏| 9218/10000 [01:30<00:07, 101.64it/s]"
     ]
    },
    {
     "name": "stdout",
     "output_type": "stream",
     "text": [
      "9200: train: 0.0570, val: 0.0576\n"
     ]
    },
    {
     "name": "stderr",
     "output_type": "stream",
     "text": [
      " 93%|█████████▎| 9317/10000 [01:31<00:06, 101.15it/s]"
     ]
    },
    {
     "name": "stdout",
     "output_type": "stream",
     "text": [
      "9300: train: 0.0570, val: 0.0575\n"
     ]
    },
    {
     "name": "stderr",
     "output_type": "stream",
     "text": [
      " 94%|█████████▍| 9416/10000 [01:32<00:05, 100.22it/s]"
     ]
    },
    {
     "name": "stdout",
     "output_type": "stream",
     "text": [
      "9400: train: 0.0570, val: 0.0575\n"
     ]
    },
    {
     "name": "stderr",
     "output_type": "stream",
     "text": [
      " 95%|█████████▌| 9515/10000 [01:33<00:04, 101.39it/s]"
     ]
    },
    {
     "name": "stdout",
     "output_type": "stream",
     "text": [
      "9500: train: 0.0570, val: 0.0576\n"
     ]
    },
    {
     "name": "stderr",
     "output_type": "stream",
     "text": [
      " 96%|█████████▌| 9614/10000 [01:34<00:03, 100.96it/s]"
     ]
    },
    {
     "name": "stdout",
     "output_type": "stream",
     "text": [
      "9600: train: 0.0570, val: 0.0575\n"
     ]
    },
    {
     "name": "stderr",
     "output_type": "stream",
     "text": [
      " 97%|█████████▋| 9713/10000 [01:35<00:02, 101.09it/s]"
     ]
    },
    {
     "name": "stdout",
     "output_type": "stream",
     "text": [
      "9700: train: 0.0570, val: 0.0575\n"
     ]
    },
    {
     "name": "stderr",
     "output_type": "stream",
     "text": [
      " 98%|█████████▊| 9812/10000 [01:36<00:01, 100.84it/s]"
     ]
    },
    {
     "name": "stdout",
     "output_type": "stream",
     "text": [
      "9800: train: 0.0570, val: 0.0575\n"
     ]
    },
    {
     "name": "stderr",
     "output_type": "stream",
     "text": [
      " 99%|█████████▉| 9911/10000 [01:37<00:00, 100.84it/s]"
     ]
    },
    {
     "name": "stdout",
     "output_type": "stream",
     "text": [
      "9900: train: 0.0570, val: 0.0575\n"
     ]
    },
    {
     "name": "stderr",
     "output_type": "stream",
     "text": [
      "100%|██████████| 10000/10000 [01:38<00:00, 101.82it/s]\n"
     ]
    }
   ],
   "source": [
    "hidden = 128\n",
    "features_out = 6\n",
    "\n",
    "# model = torch.nn.Sequential(\n",
    "#         torch.nn.Linear(train_x.shape[1], features_out)\n",
    "# )\n",
    "\n",
    "class Model(torch.nn.Module):\n",
    "    def __init__(self):\n",
    "        super().__init__()\n",
    "        self.w1 = torch.nn.Linear(train_x.shape[1], features_out, bias=False)\n",
    "\n",
    "    def forward(self, x):\n",
    "        x = F.linear(x, torch.abs(self.w1.weight) / torch.sum(torch.abs(self.w1.weight), 1, keepdim=True), self.w1.bias)\n",
    "#         x = F.linear(x, self.w1.weight / torch.sum(self.w1.weight, 1, keepdim=True), self.w1.bias)\n",
    "        return torch.clamp(x, 0, 1)\n",
    "\n",
    "\n",
    "model = Model()\n",
    "print(model.w1.weight.shape)\n",
    "# model = torch.nn.Sequential(\n",
    "#         torch.nn.Linear(train_x.shape[1], hidden),\n",
    "#         torch.nn.ReLU(),\n",
    "# #         torch.nn.Dropout(0.2),\n",
    "#         torch.nn.Linear(hidden, features_out),\n",
    "# )\n",
    "\n",
    "train_x = train_x.cuda()\n",
    "train_y = train_y.cuda()\n",
    "val_x = val_x.cuda()\n",
    "val_y = val_y.cuda()\n",
    "model = model.cuda()\n",
    "\n",
    "optimizer = torch.optim.Adam(model.parameters(), 0.0001)\n",
    "val_log_loss = 0\n",
    "class_weights = class_weights.cuda()\n",
    "\n",
    "for i in tqdm(range(10000)):\n",
    "    optimizer.zero_grad()\n",
    "\n",
    "    y_hat = model(train_x)\n",
    "    loss = F.binary_cross_entropy(y_hat, train_y, weight=class_weights)\n",
    "    loss.backward()\n",
    "    optimizer.step()\n",
    "\n",
    "    if i % 100 == 0:\n",
    "        model.eval()\n",
    "        val_y_hat = model(val_x)\n",
    "        val_loss = F.binary_cross_entropy(val_y_hat, val_y, weight=class_weights)\n",
    "        model.train()\n",
    "        \n",
    "        print(f'{i:04d}: train: {loss.item():.04f}, val: {val_loss.item():.04f}')"
   ]
  },
  {
   "cell_type": "code",
   "execution_count": 14,
   "metadata": {},
   "outputs": [
    {
     "data": {
      "text/plain": [
       "tensor([[1.9564e-06, 2.1241e-06, 3.5336e-08,  ..., 1.7863e-06, 5.2180e-06,\n",
       "         3.6598e-06],\n",
       "        [1.6304e-06, 3.6274e-06, 6.9784e-06,  ..., 1.2331e-05, 9.9599e-06,\n",
       "         4.8471e-06],\n",
       "        [6.4633e-06, 7.1205e-06, 9.2582e-07,  ..., 7.6014e-06, 1.0359e-05,\n",
       "         4.1163e-06],\n",
       "        [1.2718e-05, 4.5825e-06, 9.0938e-07,  ..., 1.1724e-05, 5.2204e-06,\n",
       "         7.0850e-06],\n",
       "        [5.4611e-06, 1.0649e-05, 5.8644e-06,  ..., 1.0276e-05, 4.7437e-06,\n",
       "         3.5321e-06],\n",
       "        [2.3052e-06, 2.2436e-06, 1.1978e-06,  ..., 3.3766e-06, 1.2293e-05,\n",
       "         1.9789e-06]], device='cuda:0', grad_fn=<DivBackward0>)"
      ]
     },
     "execution_count": 14,
     "metadata": {},
     "output_type": "execute_result"
    }
   ],
   "source": [
    "torch.abs(model.w1.weight) / torch.sum(torch.abs(model.w1.weight), 1, keepdim=True)"
   ]
  },
  {
   "cell_type": "markdown",
   "metadata": {},
   "source": [
    "Apply the trained model on the L1 test predictions:"
   ]
  },
  {
   "cell_type": "markdown",
   "metadata": {},
   "source": [
    "TODO: implement apply to test and call generate_submission with clip_eps 1e-5"
   ]
  },
  {
   "cell_type": "markdown",
   "metadata": {},
   "source": [
    "Load test prediction of the same level 1 models and combine using trained l2 model:"
   ]
  },
  {
   "cell_type": "code",
   "execution_count": 27,
   "metadata": {},
   "outputs": [],
   "source": [
    "test_x = np.mean([np.load(f'{cache_dir}/fold{f}/x_test.npy') for f in [0,1,2,3,4]], axis=0)"
   ]
  },
  {
   "cell_type": "code",
   "execution_count": 28,
   "metadata": {},
   "outputs": [],
   "source": [
    "test_pred = model(torch.tensor(test_x, dtype=torch.float32).cuda()).cpu().detach().numpy()"
   ]
  },
  {
   "cell_type": "code",
   "execution_count": 29,
   "metadata": {},
   "outputs": [
    {
     "data": {
      "text/plain": [
       "'/home/dmytro/ml/kaggle-rsna-2019/output/prediction/se_preresnext26b_400/fold1/predictions_stage2/test_h_flip.csv'"
      ]
     },
     "execution_count": 29,
     "metadata": {},
     "output_type": "execute_result"
    }
   ],
   "source": [
    "# load one of the l1 model predictions as the base for l2 csv file:\n",
    "import glob\n",
    "config = Config()\n",
    "pred1_path = sorted(glob.glob(f'/home/dmytro/ml/kaggle-rsna-2019/output/prediction/{config.models[-1]}/fold1/predictions_stage2/test_*.csv'))[0]\n",
    "pred1 = pd.read_csv(pred1_path)\n",
    "pred1_path"
   ]
  },
  {
   "cell_type": "code",
   "execution_count": 30,
   "metadata": {},
   "outputs": [],
   "source": [
    "pred1 = pred1.sort_values(by=['study_id', 'slice_num'])"
   ]
  },
  {
   "cell_type": "code",
   "execution_count": 31,
   "metadata": {},
   "outputs": [],
   "source": [
    "for i,c in enumerate(config.pred_columns):\n",
    "    pred1[c] = test_pred[:, i]"
   ]
  },
  {
   "cell_type": "code",
   "execution_count": 32,
   "metadata": {},
   "outputs": [],
   "source": [
    "pred1.to_csv('/home/dmytro/ml/kaggle-rsna-2019/output/pred_l2.csv', index=False)"
   ]
  },
  {
   "cell_type": "code",
   "execution_count": null,
   "metadata": {},
   "outputs": [],
   "source": []
  }
 ],
 "metadata": {
  "kernelspec": {
   "display_name": "Python 3.6",
   "language": "python",
   "name": "python3.6"
  },
  "language_info": {
   "codemirror_mode": {
    "name": "ipython",
    "version": 3
   },
   "file_extension": ".py",
   "mimetype": "text/x-python",
   "name": "python",
   "nbconvert_exporter": "python",
   "pygments_lexer": "ipython3",
   "version": "3.6.8"
  }
 },
 "nbformat": 4,
 "nbformat_minor": 2
}
