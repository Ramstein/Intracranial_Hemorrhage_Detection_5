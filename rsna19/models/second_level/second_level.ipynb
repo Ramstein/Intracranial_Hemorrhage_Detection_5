{
 "cells": [
  {
   "cell_type": "code",
   "execution_count": null,
   "metadata": {},
   "outputs": [],
   "source": [
    "import torch\n",
    "from torch.nn import functional as F\n",
    "import numpy as np\n",
    "from tqdm import tqdm_notebook as tqdm\n",
    "from rsna19.configs.second_level import Config\n",
    "from sklearn.metrics import log_loss\n",
    "import pandas as pd\n",
    "from scipy.signal import windows"
   ]
  },
  {
   "cell_type": "code",
   "execution_count": null,
   "metadata": {},
   "outputs": [],
   "source": [
    "train_folds = [0, 1, 2, 3]\n",
    "val_folds = [4]\n",
    "\n",
    "train_x = torch.cat([torch.tensor(np.load(f'/kolos/m2/ct/models/classification/rsna-cache/v07/cache/fold{f}/x.npy'), dtype=torch.float32) for f in train_folds], dim=0)\n",
    "train_y = torch.cat([torch.tensor(np.load(f'/kolos/m2/ct/models/classification/rsna-cache/v07/cache/fold{f}/y.npy'), dtype=torch.float32) for f in train_folds], dim=0)\n",
    "val_x = torch.cat([torch.tensor(np.load(f'/kolos/m2/ct/models/classification/rsna-cache/v07/cache/fold{f}/x.npy'), dtype=torch.float32) for f in val_folds], dim=0)\n",
    "val_y = torch.cat([torch.tensor(np.load(f'/kolos/m2/ct/models/classification/rsna-cache/v07/cache/fold{f}/y.npy'), dtype=torch.float32) for f in val_folds], dim=0)\n",
    "\n",
    "n_models = 5\n",
    "class_weights = torch.tensor([1, 1, 1, 1, 1, 2], dtype=torch.float32) * 6 / 7\n",
    "loss_fn = F.binary_cross_entropy"
   ]
  },
  {
   "cell_type": "code",
   "execution_count": null,
   "metadata": {},
   "outputs": [],
   "source": [
    "# undo sigmoid\n",
    "\n",
    "# train_x[train_x > 0] = torch.log(train_x[train_x > 0] / (1-train_x[train_x > 0]))\n",
    "# val_x[val_x > 0] = torch.log(val_x[val_x > 0] / (1-val_x[val_x > 0]))\n",
    "# loss_fn = F.binary_cross_entropy_with_logits"
   ]
  },
  {
   "cell_type": "code",
   "execution_count": null,
   "metadata": {},
   "outputs": [],
   "source": [
    "print('train')\n",
    "preds = []\n",
    "for model_id in range(n_models):\n",
    "    preds.append(train_x[:, model_id*30+12:model_id*30+18])\n",
    "    loss = loss_fn(preds[-1], train_y, weight=class_weights)\n",
    "    print(f'model {model_id}: {loss}')\n",
    "\n",
    "mean_preds = torch.mean(torch.stack(preds), dim=0)\n",
    "loss = loss_fn(mean_preds, train_y, weight=class_weights)\n",
    "print(f'averaged ensemble: {loss}')\n",
    "\n",
    "print('\\nval')\n",
    "preds = []\n",
    "for model_id in range(n_models):\n",
    "    preds.append(val_x[:, model_id*30+12:model_id*30+18])\n",
    "    loss = loss_fn(preds[-1], val_y, weight=class_weights)\n",
    "    print(f'model {model_id}: {loss}')\n",
    "\n",
    "mean_preds = torch.mean(torch.stack(preds), dim=0)\n",
    "loss = loss_fn(mean_preds, val_y, weight=class_weights)\n",
    "print(f'averaged ensemble: {loss}')"
   ]
  },
  {
   "cell_type": "code",
   "execution_count": null,
   "metadata": {},
   "outputs": [],
   "source": [
    "# train on middle slice only\n",
    "\n",
    "# train_x_1slice = []\n",
    "# for model_id in range(n_models):\n",
    "#     train_x_1slice.append(train_x[:, model_id*30+12:model_id*30+18])\n",
    "# train_x_1slice = torch.cat(train_x_1slice, dim=1)\n",
    "\n",
    "# val_x_1slice = []\n",
    "# for model_id in range(n_models):\n",
    "#     val_x_1slice.append(val_x[:, model_id*30+12:model_id*30+18])\n",
    "# val_x_1slice = torch.cat(val_x_1slice, dim=1)\n",
    "\n",
    "# train_x = train_x_1slice\n",
    "# val_x = val_x_1slice"
   ]
  },
  {
   "cell_type": "code",
   "execution_count": null,
   "metadata": {
    "scrolled": false
   },
   "outputs": [],
   "source": [
    "hidden = 128\n",
    "features_out = 6\n",
    "\n",
    "# model = torch.nn.Sequential(\n",
    "#         torch.nn.Linear(train_x.shape[1], features_out)\n",
    "# )\n",
    "\n",
    "model = torch.nn.Sequential(\n",
    "        torch.nn.Linear(train_x.shape[1], hidden),\n",
    "        torch.nn.ReLU(),\n",
    "#         torch.nn.Dropout(0.2),\n",
    "        torch.nn.Linear(hidden, features_out),\n",
    ")\n",
    "\n",
    "train_x = train_x.cuda()\n",
    "train_y = train_y.cuda()\n",
    "val_x = val_x.cuda()\n",
    "val_y = val_y.cuda()\n",
    "model = model.cuda()\n",
    "\n",
    "optimizer = torch.optim.Adam(model.parameters(), 0.001)\n",
    "val_log_loss = 0\n",
    "class_weights = class_weights.cuda()\n",
    "\n",
    "for i in tqdm(range(5000)):\n",
    "    optimizer.zero_grad()\n",
    "\n",
    "    y_hat = model(train_x)\n",
    "    loss = F.binary_cross_entropy_with_logits(y_hat, train_y, weight=class_weights)\n",
    "    loss.backward()\n",
    "    optimizer.step()\n",
    "\n",
    "    if i % 100 == 0:\n",
    "        model.eval()\n",
    "        val_y_hat = model(val_x)\n",
    "        val_loss = F.binary_cross_entropy_with_logits(val_y_hat, val_y, weight=class_weights)\n",
    "        model.train()\n",
    "        \n",
    "        print(f'{i:04d}: train: {loss.item():.04f}, val: {val_loss.item():.04f}')"
   ]
  }
 ],
 "metadata": {
  "kernelspec": {
   "display_name": "Python 3",
   "language": "python",
   "name": "python3"
  },
  "language_info": {
   "codemirror_mode": {
    "name": "ipython",
    "version": 3
   },
   "file_extension": ".py",
   "mimetype": "text/x-python",
   "name": "python",
   "nbconvert_exporter": "python",
   "pygments_lexer": "ipython3",
   "version": "3.6.8"
  }
 },
 "nbformat": 4,
 "nbformat_minor": 2
}
