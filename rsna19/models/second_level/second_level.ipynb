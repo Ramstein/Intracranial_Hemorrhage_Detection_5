{
 "cells": [
  {
   "cell_type": "code",
   "execution_count": 1,
   "metadata": {},
   "outputs": [],
   "source": [
    "import torch\n",
    "from torch.nn import functional as F\n",
    "import numpy as np\n",
    "# from tqdm import tqdm_notebook as tqdm\n",
    "from tqdm import tqdm\n",
    "from rsna19.configs.second_level import Config\n",
    "from sklearn.metrics import log_loss\n",
    "import pandas as pd\n",
    "from scipy.signal import windows"
   ]
  },
  {
   "cell_type": "code",
   "execution_count": 2,
   "metadata": {},
   "outputs": [],
   "source": [
    "# train_folds = [0, 1, 2, 3] # for testing \n",
    "train_folds = [0, 1, 2, 3, 4]  # for stage 2 submission\n",
    "val_folds = [4]\n",
    "\n",
    "cache_dir = '/home/dmytro/ml/kaggle-rsna-2019/output/cache'\n",
    "\n",
    "train_x = torch.cat([torch.tensor(np.load(f'{cache_dir}/fold{f}/x.npy'), dtype=torch.float32) for f in train_folds], dim=0)\n",
    "train_y = torch.cat([torch.tensor(np.load(f'{cache_dir}/fold{f}/y.npy'), dtype=torch.float32) for f in train_folds], dim=0)\n",
    "val_x = torch.cat([torch.tensor(np.load(f'{cache_dir}/fold{f}/x.npy'), dtype=torch.float32) for f in val_folds], dim=0)\n",
    "val_y = torch.cat([torch.tensor(np.load(f'{cache_dir}/fold{f}/y.npy'), dtype=torch.float32) for f in val_folds], dim=0)\n",
    "\n",
    "n_models = 5\n",
    "class_weights = torch.tensor([1, 1, 1, 1, 1, 2], dtype=torch.float32) * 6 / 7\n",
    "loss_fn = F.binary_cross_entropy"
   ]
  },
  {
   "cell_type": "code",
   "execution_count": 3,
   "metadata": {},
   "outputs": [],
   "source": [
    "# undo sigmoid\n",
    "\n",
    "# train_x[train_x > 0] = torch.log(train_x[train_x > 0] / (1-train_x[train_x > 0]))\n",
    "# val_x[val_x > 0] = torch.log(val_x[val_x > 0] / (1-val_x[val_x > 0]))\n",
    "# loss_fn = F.binary_cross_entropy_with_logits"
   ]
  },
  {
   "cell_type": "code",
   "execution_count": 4,
   "metadata": {},
   "outputs": [
    {
     "name": "stdout",
     "output_type": "stream",
     "text": [
      "train\n",
      "model 0: 0.06113557517528534\n",
      "model 1: 0.062465518712997437\n",
      "model 2: 0.0627981498837471\n",
      "model 3: 0.061474189162254333\n",
      "model 4: 0.06128436699509621\n",
      "averaged ensemble: 0.05732988193631172\n",
      "\n",
      "val\n",
      "model 0: 0.061941273510456085\n",
      "model 1: 0.06328877061605453\n",
      "model 2: 0.06281528621912003\n",
      "model 3: 0.06388995796442032\n",
      "model 4: 0.06146755814552307\n",
      "averaged ensemble: 0.05845646187663078\n"
     ]
    }
   ],
   "source": [
    "print('train')\n",
    "preds = []\n",
    "for model_id in range(n_models):\n",
    "    preds.append(train_x[:, model_id*30+12:model_id*30+18])\n",
    "    loss = loss_fn(preds[-1], train_y, weight=class_weights)\n",
    "    print(f'model {model_id}: {loss}')\n",
    "\n",
    "mean_preds = torch.mean(torch.stack(preds), dim=0)\n",
    "loss = loss_fn(mean_preds, train_y, weight=class_weights)\n",
    "print(f'averaged ensemble: {loss}')\n",
    "\n",
    "print('\\nval')\n",
    "preds = []\n",
    "for model_id in range(n_models):\n",
    "    preds.append(val_x[:, model_id*30+12:model_id*30+18])\n",
    "    loss = loss_fn(preds[-1], val_y, weight=class_weights)\n",
    "    print(f'model {model_id}: {loss}')\n",
    "\n",
    "mean_preds = torch.mean(torch.stack(preds), dim=0)\n",
    "loss = loss_fn(mean_preds, val_y, weight=class_weights)\n",
    "print(f'averaged ensemble: {loss}')"
   ]
  },
  {
   "cell_type": "code",
   "execution_count": 5,
   "metadata": {},
   "outputs": [],
   "source": [
    "# train on middle slice only\n",
    "\n",
    "# train_x_1slice = []\n",
    "# for model_id in range(n_models):\n",
    "#     train_x_1slice.append(train_x[:, model_id*30+12:model_id*30+18])\n",
    "# train_x_1slice = torch.cat(train_x_1slice, dim=1)\n",
    "\n",
    "# val_x_1slice = []\n",
    "# for model_id in range(n_models):\n",
    "#     val_x_1slice.append(val_x[:, model_id*30+12:model_id*30+18])\n",
    "# val_x_1slice = torch.cat(val_x_1slice, dim=1)\n",
    "\n",
    "# train_x = train_x_1slice\n",
    "# val_x = val_x_1slice"
   ]
  },
  {
   "cell_type": "code",
   "execution_count": 11,
   "metadata": {
    "scrolled": false
   },
   "outputs": [
    {
     "name": "stderr",
     "output_type": "stream",
     "text": [
      "\n",
      "  0%|          | 0/10000 [00:00<?, ?it/s]\u001b[A\n",
      "  0%|          | 22/10000 [00:00<00:45, 218.01it/s]\u001b[A"
     ]
    },
    {
     "name": "stdout",
     "output_type": "stream",
     "text": [
      "torch.Size([6, 150])\n",
      "0000: train: 0.1309, val: 0.1316\n"
     ]
    },
    {
     "name": "stderr",
     "output_type": "stream",
     "text": [
      "\n",
      "  0%|          | 48/10000 [00:00<00:43, 228.48it/s]\u001b[A\n",
      "  1%|          | 73/10000 [00:00<00:42, 234.03it/s]\u001b[A\n",
      "  1%|          | 100/10000 [00:00<00:40, 242.22it/s]\u001b[A\n",
      "  1%|▏         | 127/10000 [00:00<00:39, 249.45it/s]\u001b[A\n",
      "  2%|▏         | 155/10000 [00:00<00:38, 256.62it/s]\u001b[A"
     ]
    },
    {
     "name": "stdout",
     "output_type": "stream",
     "text": [
      "0100: train: 0.1205, val: 0.1211\n"
     ]
    },
    {
     "name": "stderr",
     "output_type": "stream",
     "text": [
      "\n",
      "  2%|▏         | 183/10000 [00:00<00:37, 262.33it/s]\u001b[A\n",
      "  2%|▏         | 211/10000 [00:00<00:36, 266.95it/s]\u001b[A\n",
      "  2%|▏         | 238/10000 [00:00<00:36, 266.88it/s]\u001b[A"
     ]
    },
    {
     "name": "stdout",
     "output_type": "stream",
     "text": [
      "0200: train: 0.1092, val: 0.1097\n"
     ]
    },
    {
     "name": "stderr",
     "output_type": "stream",
     "text": [
      "\n",
      "  3%|▎         | 266/10000 [00:01<00:36, 269.31it/s]\u001b[A\n",
      "  3%|▎         | 295/10000 [00:01<00:35, 273.66it/s]\u001b[A\n",
      "  3%|▎         | 323/10000 [00:01<00:35, 275.25it/s]\u001b[A\n",
      "  4%|▎         | 351/10000 [00:01<00:34, 276.16it/s]\u001b[A"
     ]
    },
    {
     "name": "stdout",
     "output_type": "stream",
     "text": [
      "0300: train: 0.0953, val: 0.0957\n"
     ]
    },
    {
     "name": "stderr",
     "output_type": "stream",
     "text": [
      "\n",
      "  4%|▍         | 379/10000 [00:01<00:34, 275.18it/s]\u001b[A\n",
      "  4%|▍         | 407/10000 [00:01<00:34, 275.07it/s]\u001b[A\n",
      "  4%|▍         | 435/10000 [00:01<00:34, 275.24it/s]\u001b[A"
     ]
    },
    {
     "name": "stdout",
     "output_type": "stream",
     "text": [
      "0400: train: 0.0803, val: 0.0807\n"
     ]
    },
    {
     "name": "stderr",
     "output_type": "stream",
     "text": [
      "\n",
      "  5%|▍         | 463/10000 [00:01<00:34, 275.93it/s]\u001b[A\n",
      "  5%|▍         | 491/10000 [00:01<00:34, 275.62it/s]\u001b[A\n",
      "  5%|▌         | 519/10000 [00:01<00:34, 274.04it/s]\u001b[A\n",
      "  5%|▌         | 547/10000 [00:02<00:34, 274.14it/s]\u001b[A"
     ]
    },
    {
     "name": "stdout",
     "output_type": "stream",
     "text": [
      "0500: train: 0.0689, val: 0.0694\n"
     ]
    },
    {
     "name": "stderr",
     "output_type": "stream",
     "text": [
      "\n",
      "  6%|▌         | 575/10000 [00:02<00:34, 273.91it/s]\u001b[A\n",
      "  6%|▌         | 603/10000 [00:02<00:34, 270.07it/s]\u001b[A\n",
      "  6%|▋         | 631/10000 [00:02<00:34, 269.59it/s]\u001b[A"
     ]
    },
    {
     "name": "stdout",
     "output_type": "stream",
     "text": [
      "0600: train: 0.0639, val: 0.0647\n"
     ]
    },
    {
     "name": "stderr",
     "output_type": "stream",
     "text": [
      "\n",
      "  7%|▋         | 659/10000 [00:02<00:34, 272.24it/s]\u001b[A\n",
      "  7%|▋         | 687/10000 [00:02<00:34, 272.64it/s]\u001b[A\n",
      "  7%|▋         | 715/10000 [00:02<00:33, 273.40it/s]\u001b[A\n",
      "  7%|▋         | 743/10000 [00:02<00:33, 274.52it/s]\u001b[A"
     ]
    },
    {
     "name": "stdout",
     "output_type": "stream",
     "text": [
      "0700: train: 0.0627, val: 0.0636\n"
     ]
    },
    {
     "name": "stderr",
     "output_type": "stream",
     "text": [
      "\n",
      "  8%|▊         | 771/10000 [00:02<00:33, 274.77it/s]\u001b[A\n",
      "  8%|▊         | 799/10000 [00:02<00:33, 273.01it/s]\u001b[A\n",
      "  8%|▊         | 827/10000 [00:03<00:33, 272.46it/s]\u001b[A\n",
      "  9%|▊         | 855/10000 [00:03<00:33, 273.12it/s]\u001b[A"
     ]
    },
    {
     "name": "stdout",
     "output_type": "stream",
     "text": [
      "0800: train: 0.0622, val: 0.0631\n"
     ]
    },
    {
     "name": "stderr",
     "output_type": "stream",
     "text": [
      "\n",
      "  9%|▉         | 883/10000 [00:03<00:33, 271.22it/s]\u001b[A\n",
      "  9%|▉         | 911/10000 [00:03<00:33, 270.71it/s]\u001b[A\n",
      "  9%|▉         | 939/10000 [00:03<00:33, 271.46it/s]\u001b[A"
     ]
    },
    {
     "name": "stdout",
     "output_type": "stream",
     "text": [
      "0900: train: 0.0618, val: 0.0626\n"
     ]
    },
    {
     "name": "stderr",
     "output_type": "stream",
     "text": [
      "\n",
      " 10%|▉         | 967/10000 [00:03<00:33, 273.64it/s]\u001b[A\n",
      " 10%|▉         | 995/10000 [00:03<00:32, 274.97it/s]\u001b[A\n",
      " 10%|█         | 1023/10000 [00:03<00:32, 274.39it/s]\u001b[A\n",
      " 11%|█         | 1051/10000 [00:03<00:32, 275.44it/s]\u001b[A"
     ]
    },
    {
     "name": "stdout",
     "output_type": "stream",
     "text": [
      "1000: train: 0.0614, val: 0.0623\n"
     ]
    },
    {
     "name": "stderr",
     "output_type": "stream",
     "text": [
      "\n",
      " 11%|█         | 1079/10000 [00:03<00:32, 274.83it/s]\u001b[A\n",
      " 11%|█         | 1107/10000 [00:04<00:32, 275.62it/s]\u001b[A\n",
      " 11%|█▏        | 1135/10000 [00:04<00:32, 275.80it/s]\u001b[A"
     ]
    },
    {
     "name": "stdout",
     "output_type": "stream",
     "text": [
      "1100: train: 0.0610, val: 0.0619\n"
     ]
    },
    {
     "name": "stderr",
     "output_type": "stream",
     "text": [
      "\n",
      " 12%|█▏        | 1163/10000 [00:04<00:32, 275.90it/s]\u001b[A\n",
      " 12%|█▏        | 1192/10000 [00:04<00:31, 278.09it/s]\u001b[A\n",
      " 12%|█▏        | 1220/10000 [00:04<00:31, 276.75it/s]\u001b[A\n",
      " 12%|█▏        | 1248/10000 [00:04<00:31, 275.55it/s]\u001b[A"
     ]
    },
    {
     "name": "stdout",
     "output_type": "stream",
     "text": [
      "1200: train: 0.0606, val: 0.0615\n"
     ]
    },
    {
     "name": "stderr",
     "output_type": "stream",
     "text": [
      "\n",
      " 13%|█▎        | 1276/10000 [00:04<00:31, 275.07it/s]\u001b[A\n",
      " 13%|█▎        | 1304/10000 [00:04<00:31, 275.40it/s]\u001b[A\n",
      " 13%|█▎        | 1332/10000 [00:04<00:31, 274.95it/s]\u001b[A"
     ]
    },
    {
     "name": "stdout",
     "output_type": "stream",
     "text": [
      "1300: train: 0.0603, val: 0.0611\n"
     ]
    },
    {
     "name": "stderr",
     "output_type": "stream",
     "text": [
      "\n",
      " 14%|█▎        | 1360/10000 [00:04<00:31, 276.25it/s]\u001b[A\n",
      " 14%|█▍        | 1388/10000 [00:05<00:31, 274.88it/s]\u001b[A\n",
      " 14%|█▍        | 1416/10000 [00:05<00:31, 273.05it/s]\u001b[A\n",
      " 14%|█▍        | 1444/10000 [00:05<00:31, 271.91it/s]\u001b[A"
     ]
    },
    {
     "name": "stdout",
     "output_type": "stream",
     "text": [
      "1400: train: 0.0599, val: 0.0608\n"
     ]
    },
    {
     "name": "stderr",
     "output_type": "stream",
     "text": [
      "\n",
      " 15%|█▍        | 1472/10000 [00:05<00:31, 274.03it/s]\u001b[A\n",
      " 15%|█▌        | 1500/10000 [00:05<00:30, 274.89it/s]\u001b[A\n",
      " 15%|█▌        | 1528/10000 [00:05<00:30, 274.82it/s]\u001b[A\n",
      " 16%|█▌        | 1556/10000 [00:05<00:30, 275.79it/s]\u001b[A"
     ]
    },
    {
     "name": "stdout",
     "output_type": "stream",
     "text": [
      "1500: train: 0.0595, val: 0.0604\n"
     ]
    },
    {
     "name": "stderr",
     "output_type": "stream",
     "text": [
      "\n",
      " 16%|█▌        | 1584/10000 [00:05<00:30, 272.92it/s]\u001b[A\n",
      " 16%|█▌        | 1612/10000 [00:05<00:31, 270.11it/s]\u001b[A\n",
      " 16%|█▋        | 1640/10000 [00:06<00:31, 268.32it/s]\u001b[A"
     ]
    },
    {
     "name": "stdout",
     "output_type": "stream",
     "text": [
      "1600: train: 0.0592, val: 0.0601\n"
     ]
    },
    {
     "name": "stderr",
     "output_type": "stream",
     "text": [
      "\n",
      " 17%|█▋        | 1667/10000 [00:06<00:31, 266.65it/s]\u001b[A\n",
      " 17%|█▋        | 1694/10000 [00:06<00:31, 267.12it/s]\u001b[A\n",
      " 17%|█▋        | 1721/10000 [00:06<00:31, 265.28it/s]\u001b[A\n",
      " 17%|█▋        | 1749/10000 [00:06<00:30, 267.56it/s]\u001b[A"
     ]
    },
    {
     "name": "stdout",
     "output_type": "stream",
     "text": [
      "1700: train: 0.0590, val: 0.0598\n"
     ]
    },
    {
     "name": "stderr",
     "output_type": "stream",
     "text": [
      "\n",
      " 18%|█▊        | 1777/10000 [00:06<00:30, 269.11it/s]\u001b[A\n",
      " 18%|█▊        | 1805/10000 [00:06<00:30, 269.97it/s]\u001b[A\n",
      " 18%|█▊        | 1833/10000 [00:06<00:30, 271.90it/s]\u001b[A"
     ]
    },
    {
     "name": "stdout",
     "output_type": "stream",
     "text": [
      "1800: train: 0.0588, val: 0.0596\n"
     ]
    },
    {
     "name": "stderr",
     "output_type": "stream",
     "text": [
      "\n",
      " 19%|█▊        | 1861/10000 [00:06<00:29, 273.02it/s]\u001b[A\n",
      " 19%|█▉        | 1889/10000 [00:06<00:29, 272.92it/s]\u001b[A\n",
      " 19%|█▉        | 1917/10000 [00:07<00:29, 274.20it/s]\u001b[A\n",
      " 19%|█▉        | 1945/10000 [00:07<00:29, 273.63it/s]\u001b[A"
     ]
    },
    {
     "name": "stdout",
     "output_type": "stream",
     "text": [
      "1900: train: 0.0586, val: 0.0594\n"
     ]
    },
    {
     "name": "stderr",
     "output_type": "stream",
     "text": [
      "\n",
      " 20%|█▉        | 1973/10000 [00:07<00:29, 272.47it/s]\u001b[A\n",
      " 20%|██        | 2001/10000 [00:07<00:29, 271.02it/s]\u001b[A\n",
      " 20%|██        | 2029/10000 [00:07<00:29, 271.87it/s]\u001b[A"
     ]
    },
    {
     "name": "stdout",
     "output_type": "stream",
     "text": [
      "2000: train: 0.0584, val: 0.0592\n"
     ]
    },
    {
     "name": "stderr",
     "output_type": "stream",
     "text": [
      "\n",
      " 21%|██        | 2057/10000 [00:07<00:29, 271.90it/s]\u001b[A\n",
      " 21%|██        | 2085/10000 [00:07<00:29, 272.63it/s]\u001b[A\n",
      " 21%|██        | 2113/10000 [00:07<00:28, 272.96it/s]\u001b[A\n",
      " 21%|██▏       | 2141/10000 [00:07<00:28, 274.01it/s]\u001b[A"
     ]
    },
    {
     "name": "stdout",
     "output_type": "stream",
     "text": [
      "2100: train: 0.0582, val: 0.0591\n"
     ]
    },
    {
     "name": "stderr",
     "output_type": "stream",
     "text": [
      "\n",
      " 22%|██▏       | 2169/10000 [00:07<00:28, 274.50it/s]\u001b[A\n",
      " 22%|██▏       | 2197/10000 [00:08<00:28, 274.60it/s]\u001b[A\n",
      " 22%|██▏       | 2225/10000 [00:08<00:28, 273.66it/s]\u001b[A\n",
      " 23%|██▎       | 2253/10000 [00:08<00:28, 274.37it/s]\u001b[A"
     ]
    },
    {
     "name": "stdout",
     "output_type": "stream",
     "text": [
      "2200: train: 0.0581, val: 0.0589\n"
     ]
    },
    {
     "name": "stderr",
     "output_type": "stream",
     "text": [
      "\n",
      " 23%|██▎       | 2281/10000 [00:08<00:28, 275.15it/s]\u001b[A\n",
      " 23%|██▎       | 2309/10000 [00:08<00:28, 274.33it/s]\u001b[A\n",
      " 23%|██▎       | 2337/10000 [00:08<00:27, 275.59it/s]\u001b[A"
     ]
    },
    {
     "name": "stdout",
     "output_type": "stream",
     "text": [
      "2300: train: 0.0580, val: 0.0588\n"
     ]
    },
    {
     "name": "stderr",
     "output_type": "stream",
     "text": [
      "\n",
      " 24%|██▎       | 2365/10000 [00:08<00:27, 274.25it/s]\u001b[A\n",
      " 24%|██▍       | 2393/10000 [00:08<00:27, 275.05it/s]\u001b[A\n",
      " 24%|██▍       | 2421/10000 [00:08<00:27, 273.16it/s]\u001b[A\n",
      " 24%|██▍       | 2449/10000 [00:08<00:27, 272.28it/s]\u001b[A"
     ]
    },
    {
     "name": "stdout",
     "output_type": "stream",
     "text": [
      "2400: train: 0.0579, val: 0.0587\n"
     ]
    },
    {
     "name": "stderr",
     "output_type": "stream",
     "text": [
      "\n",
      " 25%|██▍       | 2477/10000 [00:09<00:27, 273.00it/s]\u001b[A\n",
      " 25%|██▌       | 2505/10000 [00:09<00:27, 272.77it/s]\u001b[A\n",
      " 25%|██▌       | 2533/10000 [00:09<00:27, 273.45it/s]\u001b[A"
     ]
    },
    {
     "name": "stdout",
     "output_type": "stream",
     "text": [
      "2500: train: 0.0577, val: 0.0586\n"
     ]
    },
    {
     "name": "stderr",
     "output_type": "stream",
     "text": [
      "\n",
      " 26%|██▌       | 2561/10000 [00:09<00:27, 273.72it/s]\u001b[A\n",
      " 26%|██▌       | 2589/10000 [00:09<00:27, 274.07it/s]\u001b[A\n",
      " 26%|██▌       | 2617/10000 [00:09<00:26, 273.78it/s]\u001b[A\n",
      " 26%|██▋       | 2645/10000 [00:09<00:26, 273.46it/s]\u001b[A"
     ]
    },
    {
     "name": "stdout",
     "output_type": "stream",
     "text": [
      "2600: train: 0.0577, val: 0.0585\n"
     ]
    },
    {
     "name": "stderr",
     "output_type": "stream",
     "text": [
      "\n",
      " 27%|██▋       | 2673/10000 [00:09<00:26, 272.63it/s]\u001b[A\n",
      " 27%|██▋       | 2701/10000 [00:09<00:27, 269.75it/s]\u001b[A\n",
      " 27%|██▋       | 2730/10000 [00:10<00:26, 273.52it/s]\u001b[A"
     ]
    },
    {
     "name": "stdout",
     "output_type": "stream",
     "text": [
      "2700: train: 0.0576, val: 0.0584\n"
     ]
    },
    {
     "name": "stderr",
     "output_type": "stream",
     "text": [
      "\n",
      " 28%|██▊       | 2758/10000 [00:10<00:26, 273.73it/s]\u001b[A\n",
      " 28%|██▊       | 2787/10000 [00:10<00:26, 276.39it/s]\u001b[A\n",
      " 28%|██▊       | 2815/10000 [00:10<00:26, 275.28it/s]\u001b[A\n",
      " 28%|██▊       | 2843/10000 [00:10<00:25, 275.54it/s]\u001b[A"
     ]
    },
    {
     "name": "stdout",
     "output_type": "stream",
     "text": [
      "2800: train: 0.0575, val: 0.0584\n"
     ]
    },
    {
     "name": "stderr",
     "output_type": "stream",
     "text": [
      "\n",
      " 29%|██▊       | 2871/10000 [00:10<00:25, 275.40it/s]\u001b[A\n",
      " 29%|██▉       | 2899/10000 [00:10<00:25, 275.31it/s]\u001b[A\n",
      " 29%|██▉       | 2927/10000 [00:10<00:25, 275.73it/s]\u001b[A\n",
      " 30%|██▉       | 2955/10000 [00:10<00:25, 274.94it/s]\u001b[A"
     ]
    },
    {
     "name": "stdout",
     "output_type": "stream",
     "text": [
      "2900: train: 0.0575, val: 0.0583\n"
     ]
    },
    {
     "name": "stderr",
     "output_type": "stream",
     "text": [
      "\n",
      " 30%|██▉       | 2983/10000 [00:10<00:25, 275.69it/s]\u001b[A\n",
      " 30%|███       | 3011/10000 [00:11<00:25, 274.69it/s]\u001b[A\n",
      " 30%|███       | 3040/10000 [00:11<00:25, 276.64it/s]\u001b[A"
     ]
    },
    {
     "name": "stdout",
     "output_type": "stream",
     "text": [
      "3000: train: 0.0575, val: 0.0583\n"
     ]
    },
    {
     "name": "stderr",
     "output_type": "stream",
     "text": [
      "\n",
      " 31%|███       | 3068/10000 [00:11<00:25, 276.48it/s]\u001b[A\n",
      " 31%|███       | 3096/10000 [00:11<00:24, 277.15it/s]\u001b[A\n",
      " 31%|███       | 3124/10000 [00:11<00:25, 274.72it/s]\u001b[A\n",
      " 32%|███▏      | 3152/10000 [00:11<00:25, 272.47it/s]\u001b[A"
     ]
    },
    {
     "name": "stdout",
     "output_type": "stream",
     "text": [
      "3100: train: 0.0575, val: 0.0583\n"
     ]
    },
    {
     "name": "stderr",
     "output_type": "stream",
     "text": [
      "\n",
      " 32%|███▏      | 3180/10000 [00:11<00:25, 270.90it/s]\u001b[A\n",
      " 32%|███▏      | 3208/10000 [00:11<00:25, 267.20it/s]\u001b[A\n",
      " 32%|███▏      | 3235/10000 [00:11<00:25, 264.90it/s]\u001b[A"
     ]
    },
    {
     "name": "stdout",
     "output_type": "stream",
     "text": [
      "3200: train: 0.0574, val: 0.0583\n"
     ]
    },
    {
     "name": "stderr",
     "output_type": "stream",
     "text": [
      "\n",
      " 33%|███▎      | 3263/10000 [00:11<00:25, 267.13it/s]\u001b[A\n",
      " 33%|███▎      | 3291/10000 [00:12<00:24, 268.74it/s]\u001b[A\n",
      " 33%|███▎      | 3319/10000 [00:12<00:24, 270.42it/s]\u001b[A\n",
      " 33%|███▎      | 3347/10000 [00:12<00:24, 271.35it/s]\u001b[A"
     ]
    },
    {
     "name": "stdout",
     "output_type": "stream",
     "text": [
      "3300: train: 0.0574, val: 0.0582\n"
     ]
    },
    {
     "name": "stderr",
     "output_type": "stream",
     "text": [
      "\n",
      " 34%|███▍      | 3375/10000 [00:12<00:24, 272.58it/s]\u001b[A\n",
      " 34%|███▍      | 3403/10000 [00:12<00:24, 272.49it/s]\u001b[A\n",
      " 34%|███▍      | 3431/10000 [00:12<00:24, 273.55it/s]\u001b[A"
     ]
    },
    {
     "name": "stdout",
     "output_type": "stream",
     "text": [
      "3400: train: 0.0574, val: 0.0582\n"
     ]
    },
    {
     "name": "stderr",
     "output_type": "stream",
     "text": [
      "\n",
      " 35%|███▍      | 3459/10000 [00:12<00:23, 273.56it/s]\u001b[A\n",
      " 35%|███▍      | 3487/10000 [00:12<00:23, 273.97it/s]\u001b[A\n",
      " 35%|███▌      | 3515/10000 [00:12<00:23, 272.49it/s]\u001b[A\n",
      " 35%|███▌      | 3543/10000 [00:13<00:23, 271.98it/s]\u001b[A"
     ]
    },
    {
     "name": "stdout",
     "output_type": "stream",
     "text": [
      "3500: train: 0.0574, val: 0.0582\n"
     ]
    },
    {
     "name": "stderr",
     "output_type": "stream",
     "text": [
      "\n",
      " 36%|███▌      | 3571/10000 [00:13<00:23, 270.13it/s]\u001b[A\n",
      " 36%|███▌      | 3599/10000 [00:13<00:23, 267.31it/s]\u001b[A\n",
      " 36%|███▋      | 3626/10000 [00:13<00:23, 267.44it/s]\u001b[A\n",
      " 37%|███▋      | 3654/10000 [00:13<00:23, 269.89it/s]\u001b[A"
     ]
    },
    {
     "name": "stdout",
     "output_type": "stream",
     "text": [
      "3600: train: 0.0574, val: 0.0582\n"
     ]
    },
    {
     "name": "stderr",
     "output_type": "stream",
     "text": [
      "\n",
      " 37%|███▋      | 3682/10000 [00:13<00:23, 271.55it/s]\u001b[A\n",
      " 37%|███▋      | 3710/10000 [00:13<00:23, 269.68it/s]\u001b[A\n",
      " 37%|███▋      | 3739/10000 [00:13<00:22, 273.70it/s]\u001b[A"
     ]
    },
    {
     "name": "stdout",
     "output_type": "stream",
     "text": [
      "3700: train: 0.0574, val: 0.0582\n"
     ]
    },
    {
     "name": "stderr",
     "output_type": "stream",
     "text": [
      "\n",
      " 38%|███▊      | 3767/10000 [00:13<00:22, 273.10it/s]\u001b[A\n",
      " 38%|███▊      | 3795/10000 [00:13<00:22, 271.47it/s]\u001b[A\n",
      " 38%|███▊      | 3823/10000 [00:14<00:22, 271.68it/s]\u001b[A\n",
      " 39%|███▊      | 3851/10000 [00:14<00:22, 272.12it/s]\u001b[A"
     ]
    },
    {
     "name": "stdout",
     "output_type": "stream",
     "text": [
      "3800: train: 0.0574, val: 0.0582\n"
     ]
    },
    {
     "name": "stderr",
     "output_type": "stream",
     "text": [
      "\n",
      " 39%|███▉      | 3879/10000 [00:14<00:22, 271.37it/s]\u001b[A\n",
      " 39%|███▉      | 3907/10000 [00:14<00:22, 271.37it/s]\u001b[A\n",
      " 39%|███▉      | 3935/10000 [00:14<00:22, 271.54it/s]\u001b[A"
     ]
    },
    {
     "name": "stdout",
     "output_type": "stream",
     "text": [
      "3900: train: 0.0574, val: 0.0582\n"
     ]
    },
    {
     "name": "stderr",
     "output_type": "stream",
     "text": [
      "\n",
      " 40%|███▉      | 3963/10000 [00:14<00:22, 273.10it/s]\u001b[A\n",
      " 40%|███▉      | 3991/10000 [00:14<00:21, 273.77it/s]\u001b[A\n",
      " 40%|████      | 4019/10000 [00:14<00:21, 271.99it/s]\u001b[A\n",
      " 40%|████      | 4047/10000 [00:14<00:22, 270.14it/s]\u001b[A"
     ]
    },
    {
     "name": "stdout",
     "output_type": "stream",
     "text": [
      "4000: train: 0.0574, val: 0.0582\n"
     ]
    },
    {
     "name": "stderr",
     "output_type": "stream",
     "text": [
      "\n",
      " 41%|████      | 4075/10000 [00:14<00:21, 271.19it/s]\u001b[A\n",
      " 41%|████      | 4103/10000 [00:15<00:21, 271.61it/s]\u001b[A\n",
      " 41%|████▏     | 4131/10000 [00:15<00:21, 270.68it/s]\u001b[A"
     ]
    },
    {
     "name": "stdout",
     "output_type": "stream",
     "text": [
      "4100: train: 0.0574, val: 0.0582\n"
     ]
    },
    {
     "name": "stderr",
     "output_type": "stream",
     "text": [
      "\n",
      " 42%|████▏     | 4159/10000 [00:15<00:21, 271.78it/s]\u001b[A\n",
      " 42%|████▏     | 4187/10000 [00:15<00:21, 271.41it/s]\u001b[A\n",
      " 42%|████▏     | 4215/10000 [00:15<00:21, 267.93it/s]\u001b[A\n",
      " 42%|████▏     | 4243/10000 [00:15<00:21, 269.33it/s]\u001b[A"
     ]
    },
    {
     "name": "stdout",
     "output_type": "stream",
     "text": [
      "4200: train: 0.0574, val: 0.0582\n"
     ]
    },
    {
     "name": "stderr",
     "output_type": "stream",
     "text": [
      "\n",
      " 43%|████▎     | 4271/10000 [00:15<00:21, 270.34it/s]\u001b[A\n",
      " 43%|████▎     | 4299/10000 [00:15<00:21, 269.94it/s]\u001b[A\n",
      " 43%|████▎     | 4326/10000 [00:15<00:21, 266.23it/s]\u001b[A\n",
      " 44%|████▎     | 4354/10000 [00:15<00:20, 270.15it/s]\u001b[A"
     ]
    },
    {
     "name": "stdout",
     "output_type": "stream",
     "text": [
      "4300: train: 0.0574, val: 0.0582\n"
     ]
    },
    {
     "name": "stderr",
     "output_type": "stream",
     "text": [
      "\n",
      " 44%|████▍     | 4382/10000 [00:16<00:20, 271.65it/s]\u001b[A\n",
      " 44%|████▍     | 4410/10000 [00:16<00:20, 272.10it/s]\u001b[A\n",
      " 44%|████▍     | 4438/10000 [00:16<00:20, 270.86it/s]\u001b[A"
     ]
    },
    {
     "name": "stdout",
     "output_type": "stream",
     "text": [
      "4400: train: 0.0574, val: 0.0582\n"
     ]
    },
    {
     "name": "stderr",
     "output_type": "stream",
     "text": [
      "\n",
      " 45%|████▍     | 4466/10000 [00:16<00:20, 269.22it/s]\u001b[A\n",
      " 45%|████▍     | 4493/10000 [00:16<00:20, 269.05it/s]\u001b[A\n",
      " 45%|████▌     | 4520/10000 [00:16<00:20, 268.69it/s]\u001b[A\n",
      " 45%|████▌     | 4548/10000 [00:16<00:20, 270.17it/s]\u001b[A"
     ]
    },
    {
     "name": "stdout",
     "output_type": "stream",
     "text": [
      "4500: train: 0.0574, val: 0.0582\n"
     ]
    },
    {
     "name": "stderr",
     "output_type": "stream",
     "text": [
      "\n",
      " 46%|████▌     | 4576/10000 [00:16<00:20, 270.98it/s]\u001b[A\n",
      " 46%|████▌     | 4604/10000 [00:16<00:19, 271.07it/s]\u001b[A\n",
      " 46%|████▋     | 4632/10000 [00:17<00:19, 271.38it/s]\u001b[A"
     ]
    },
    {
     "name": "stdout",
     "output_type": "stream",
     "text": [
      "4600: train: 0.0574, val: 0.0582\n"
     ]
    },
    {
     "name": "stderr",
     "output_type": "stream",
     "text": [
      "\n",
      " 47%|████▋     | 4660/10000 [00:17<00:19, 271.08it/s]\u001b[A\n",
      " 47%|████▋     | 4688/10000 [00:17<00:19, 271.58it/s]\u001b[A\n",
      " 47%|████▋     | 4716/10000 [00:17<00:19, 267.89it/s]\u001b[A\n",
      " 47%|████▋     | 4744/10000 [00:17<00:19, 269.35it/s]\u001b[A"
     ]
    },
    {
     "name": "stdout",
     "output_type": "stream",
     "text": [
      "4700: train: 0.0574, val: 0.0582\n"
     ]
    },
    {
     "name": "stderr",
     "output_type": "stream",
     "text": [
      "\n",
      " 48%|████▊     | 4772/10000 [00:17<00:19, 271.38it/s]\u001b[A\n",
      " 48%|████▊     | 4800/10000 [00:17<00:19, 270.83it/s]\u001b[A\n",
      " 48%|████▊     | 4828/10000 [00:17<00:19, 270.63it/s]\u001b[A"
     ]
    },
    {
     "name": "stdout",
     "output_type": "stream",
     "text": [
      "4800: train: 0.0574, val: 0.0582\n"
     ]
    },
    {
     "name": "stderr",
     "output_type": "stream",
     "text": [
      "\n",
      " 49%|████▊     | 4856/10000 [00:17<00:19, 266.32it/s]\u001b[A\n",
      " 49%|████▉     | 4883/10000 [00:17<00:19, 265.74it/s]\u001b[A\n",
      " 49%|████▉     | 4910/10000 [00:18<00:19, 266.02it/s]\u001b[A\n",
      " 49%|████▉     | 4938/10000 [00:18<00:18, 267.70it/s]\u001b[A"
     ]
    },
    {
     "name": "stdout",
     "output_type": "stream",
     "text": [
      "4900: train: 0.0574, val: 0.0582\n"
     ]
    },
    {
     "name": "stderr",
     "output_type": "stream",
     "text": [
      "\n",
      " 50%|████▉     | 4965/10000 [00:18<00:18, 267.89it/s]\u001b[A\n",
      " 50%|████▉     | 4992/10000 [00:18<00:18, 268.40it/s]\u001b[A\n",
      " 50%|█████     | 5020/10000 [00:18<00:18, 269.56it/s]\u001b[A\n",
      " 50%|█████     | 5047/10000 [00:18<00:18, 268.89it/s]\u001b[A"
     ]
    },
    {
     "name": "stdout",
     "output_type": "stream",
     "text": [
      "5000: train: 0.0574, val: 0.0582\n"
     ]
    },
    {
     "name": "stderr",
     "output_type": "stream",
     "text": [
      "\n",
      " 51%|█████     | 5074/10000 [00:18<00:18, 268.62it/s]\u001b[A\n",
      " 51%|█████     | 5101/10000 [00:18<00:18, 266.69it/s]\u001b[A\n",
      " 51%|█████▏    | 5129/10000 [00:18<00:18, 267.97it/s]\u001b[A"
     ]
    },
    {
     "name": "stdout",
     "output_type": "stream",
     "text": [
      "5100: train: 0.0574, val: 0.0582\n"
     ]
    },
    {
     "name": "stderr",
     "output_type": "stream",
     "text": [
      "\n",
      " 52%|█████▏    | 5156/10000 [00:18<00:18, 267.21it/s]\u001b[A\n",
      " 52%|█████▏    | 5184/10000 [00:19<00:17, 268.97it/s]\u001b[A\n",
      " 52%|█████▏    | 5212/10000 [00:19<00:17, 269.64it/s]\u001b[A\n",
      " 52%|█████▏    | 5239/10000 [00:19<00:17, 268.63it/s]\u001b[A"
     ]
    },
    {
     "name": "stdout",
     "output_type": "stream",
     "text": [
      "5200: train: 0.0574, val: 0.0582\n"
     ]
    },
    {
     "name": "stderr",
     "output_type": "stream",
     "text": [
      "\n",
      " 53%|█████▎    | 5266/10000 [00:19<00:17, 267.78it/s]\u001b[A\n",
      " 53%|█████▎    | 5294/10000 [00:19<00:17, 268.76it/s]\u001b[A\n",
      " 53%|█████▎    | 5321/10000 [00:19<00:17, 267.59it/s]\u001b[A\n",
      " 53%|█████▎    | 5349/10000 [00:19<00:17, 268.62it/s]\u001b[A"
     ]
    },
    {
     "name": "stdout",
     "output_type": "stream",
     "text": [
      "5300: train: 0.0574, val: 0.0582\n"
     ]
    },
    {
     "name": "stderr",
     "output_type": "stream",
     "text": [
      "\n",
      " 54%|█████▍    | 5376/10000 [00:19<00:17, 268.14it/s]\u001b[A\n",
      " 54%|█████▍    | 5403/10000 [00:19<00:17, 266.37it/s]\u001b[A\n",
      " 54%|█████▍    | 5431/10000 [00:20<00:17, 268.05it/s]\u001b[A"
     ]
    },
    {
     "name": "stdout",
     "output_type": "stream",
     "text": [
      "5400: train: 0.0574, val: 0.0582\n"
     ]
    },
    {
     "name": "stderr",
     "output_type": "stream",
     "text": [
      "\n",
      " 55%|█████▍    | 5459/10000 [00:20<00:16, 269.26it/s]\u001b[A\n",
      " 55%|█████▍    | 5487/10000 [00:20<00:16, 271.09it/s]\u001b[A\n",
      " 55%|█████▌    | 5515/10000 [00:20<00:16, 269.39it/s]\u001b[A\n",
      " 55%|█████▌    | 5542/10000 [00:20<00:16, 269.10it/s]\u001b[A"
     ]
    },
    {
     "name": "stdout",
     "output_type": "stream",
     "text": [
      "5500: train: 0.0574, val: 0.0582\n"
     ]
    },
    {
     "name": "stderr",
     "output_type": "stream",
     "text": [
      "\n",
      " 56%|█████▌    | 5570/10000 [00:20<00:16, 269.78it/s]\u001b[A\n",
      " 56%|█████▌    | 5598/10000 [00:20<00:16, 271.78it/s]\u001b[A\n",
      " 56%|█████▋    | 5626/10000 [00:20<00:16, 272.72it/s]\u001b[A\n",
      " 57%|█████▋    | 5654/10000 [00:20<00:15, 273.69it/s]\u001b[A"
     ]
    },
    {
     "name": "stdout",
     "output_type": "stream",
     "text": [
      "5600: train: 0.0574, val: 0.0582\n"
     ]
    },
    {
     "name": "stderr",
     "output_type": "stream",
     "text": [
      "\n",
      " 57%|█████▋    | 5682/10000 [00:20<00:15, 272.23it/s]\u001b[A\n",
      " 57%|█████▋    | 5710/10000 [00:21<00:15, 272.36it/s]\u001b[A\n",
      " 57%|█████▋    | 5738/10000 [00:21<00:15, 270.93it/s]\u001b[A"
     ]
    },
    {
     "name": "stdout",
     "output_type": "stream",
     "text": [
      "5700: train: 0.0574, val: 0.0582\n"
     ]
    },
    {
     "name": "stderr",
     "output_type": "stream",
     "text": [
      "\n",
      " 58%|█████▊    | 5766/10000 [00:21<00:15, 269.55it/s]\u001b[A\n",
      " 58%|█████▊    | 5794/10000 [00:21<00:15, 271.17it/s]\u001b[A\n",
      " 58%|█████▊    | 5822/10000 [00:21<00:15, 273.71it/s]\u001b[A\n",
      " 58%|█████▊    | 5850/10000 [00:21<00:15, 272.01it/s]\u001b[A"
     ]
    },
    {
     "name": "stdout",
     "output_type": "stream",
     "text": [
      "5800: train: 0.0574, val: 0.0582\n"
     ]
    },
    {
     "name": "stderr",
     "output_type": "stream",
     "text": [
      "\n",
      " 59%|█████▉    | 5878/10000 [00:21<00:15, 272.88it/s]\u001b[A\n",
      " 59%|█████▉    | 5906/10000 [00:21<00:15, 270.55it/s]\u001b[A\n",
      " 59%|█████▉    | 5934/10000 [00:21<00:15, 269.02it/s]\u001b[A"
     ]
    },
    {
     "name": "stdout",
     "output_type": "stream",
     "text": [
      "5900: train: 0.0574, val: 0.0582\n"
     ]
    },
    {
     "name": "stderr",
     "output_type": "stream",
     "text": [
      "\n",
      " 60%|█████▉    | 5961/10000 [00:21<00:15, 267.12it/s]\u001b[A\n",
      " 60%|█████▉    | 5988/10000 [00:22<00:15, 267.30it/s]\u001b[A\n",
      " 60%|██████    | 6016/10000 [00:22<00:14, 269.14it/s]\u001b[A\n",
      " 60%|██████    | 6043/10000 [00:22<00:14, 268.63it/s]\u001b[A"
     ]
    },
    {
     "name": "stdout",
     "output_type": "stream",
     "text": [
      "6000: train: 0.0574, val: 0.0582\n"
     ]
    },
    {
     "name": "stderr",
     "output_type": "stream",
     "text": [
      "\n",
      " 61%|██████    | 6070/10000 [00:22<00:14, 269.03it/s]\u001b[A\n",
      " 61%|██████    | 6097/10000 [00:22<00:14, 268.93it/s]\u001b[A\n",
      " 61%|██████▏   | 6125/10000 [00:22<00:14, 269.67it/s]\u001b[A\n",
      " 62%|██████▏   | 6152/10000 [00:22<00:14, 267.80it/s]\u001b[A"
     ]
    },
    {
     "name": "stdout",
     "output_type": "stream",
     "text": [
      "6100: train: 0.0574, val: 0.0582\n"
     ]
    },
    {
     "name": "stderr",
     "output_type": "stream",
     "text": [
      "\n",
      " 62%|██████▏   | 6179/10000 [00:22<00:14, 267.82it/s]\u001b[A\n",
      " 62%|██████▏   | 6206/10000 [00:22<00:14, 266.17it/s]\u001b[A\n",
      " 62%|██████▏   | 6233/10000 [00:22<00:14, 265.73it/s]\u001b[A"
     ]
    },
    {
     "name": "stdout",
     "output_type": "stream",
     "text": [
      "6200: train: 0.0574, val: 0.0582\n"
     ]
    },
    {
     "name": "stderr",
     "output_type": "stream",
     "text": [
      "\n",
      " 63%|██████▎   | 6260/10000 [00:23<00:14, 265.59it/s]\u001b[A\n",
      " 63%|██████▎   | 6288/10000 [00:23<00:13, 269.22it/s]\u001b[A\n",
      " 63%|██████▎   | 6316/10000 [00:23<00:13, 270.41it/s]\u001b[A\n",
      " 63%|██████▎   | 6344/10000 [00:23<00:13, 268.98it/s]\u001b[A"
     ]
    },
    {
     "name": "stdout",
     "output_type": "stream",
     "text": [
      "6300: train: 0.0574, val: 0.0582\n"
     ]
    },
    {
     "name": "stderr",
     "output_type": "stream",
     "text": [
      "\n",
      " 64%|██████▎   | 6371/10000 [00:23<00:13, 269.17it/s]\u001b[A\n",
      " 64%|██████▍   | 6398/10000 [00:23<00:13, 267.58it/s]\u001b[A\n",
      " 64%|██████▍   | 6425/10000 [00:23<00:13, 267.69it/s]\u001b[A\n",
      " 65%|██████▍   | 6452/10000 [00:23<00:13, 264.80it/s]\u001b[A"
     ]
    },
    {
     "name": "stdout",
     "output_type": "stream",
     "text": [
      "6400: train: 0.0574, val: 0.0582\n"
     ]
    },
    {
     "name": "stderr",
     "output_type": "stream",
     "text": [
      "\n",
      " 65%|██████▍   | 6479/10000 [00:23<00:13, 262.34it/s]\u001b[A\n",
      " 65%|██████▌   | 6507/10000 [00:24<00:13, 265.36it/s]\u001b[A\n",
      " 65%|██████▌   | 6535/10000 [00:24<00:12, 267.09it/s]\u001b[A"
     ]
    },
    {
     "name": "stdout",
     "output_type": "stream",
     "text": [
      "6500: train: 0.0574, val: 0.0582\n"
     ]
    },
    {
     "name": "stderr",
     "output_type": "stream",
     "text": [
      "\n",
      " 66%|██████▌   | 6562/10000 [00:24<00:12, 267.66it/s]\u001b[A\n",
      " 66%|██████▌   | 6590/10000 [00:24<00:12, 269.40it/s]\u001b[A\n",
      " 66%|██████▌   | 6618/10000 [00:24<00:12, 270.12it/s]\u001b[A\n",
      " 66%|██████▋   | 6646/10000 [00:24<00:12, 268.48it/s]\u001b[A"
     ]
    },
    {
     "name": "stdout",
     "output_type": "stream",
     "text": [
      "6600: train: 0.0574, val: 0.0582\n"
     ]
    },
    {
     "name": "stderr",
     "output_type": "stream",
     "text": [
      "\n",
      " 67%|██████▋   | 6673/10000 [00:24<00:12, 266.30it/s]\u001b[A\n",
      " 67%|██████▋   | 6700/10000 [00:24<00:12, 266.59it/s]\u001b[A\n",
      " 67%|██████▋   | 6728/10000 [00:24<00:12, 269.23it/s]\u001b[A\n",
      " 68%|██████▊   | 6756/10000 [00:24<00:11, 272.23it/s]\u001b[A"
     ]
    },
    {
     "name": "stdout",
     "output_type": "stream",
     "text": [
      "6700: train: 0.0574, val: 0.0582\n"
     ]
    },
    {
     "name": "stderr",
     "output_type": "stream",
     "text": [
      "\n",
      " 68%|██████▊   | 6784/10000 [00:25<00:11, 271.09it/s]\u001b[A\n",
      " 68%|██████▊   | 6812/10000 [00:25<00:11, 269.00it/s]\u001b[A\n",
      " 68%|██████▊   | 6839/10000 [00:25<00:11, 267.16it/s]\u001b[A"
     ]
    },
    {
     "name": "stdout",
     "output_type": "stream",
     "text": [
      "6800: train: 0.0574, val: 0.0582\n"
     ]
    },
    {
     "name": "stderr",
     "output_type": "stream",
     "text": [
      "\n",
      " 69%|██████▊   | 6866/10000 [00:25<00:11, 264.24it/s]\u001b[A\n",
      " 69%|██████▉   | 6893/10000 [00:25<00:11, 264.98it/s]\u001b[A\n",
      " 69%|██████▉   | 6920/10000 [00:25<00:11, 264.69it/s]\u001b[A\n",
      " 69%|██████▉   | 6947/10000 [00:25<00:11, 263.30it/s]\u001b[A"
     ]
    },
    {
     "name": "stdout",
     "output_type": "stream",
     "text": [
      "6900: train: 0.0574, val: 0.0582\n"
     ]
    },
    {
     "name": "stderr",
     "output_type": "stream",
     "text": [
      "\n",
      " 70%|██████▉   | 6974/10000 [00:25<00:11, 264.81it/s]\u001b[A\n",
      " 70%|███████   | 7001/10000 [00:25<00:11, 266.33it/s]\u001b[A\n",
      " 70%|███████   | 7028/10000 [00:25<00:11, 266.87it/s]\u001b[A"
     ]
    },
    {
     "name": "stdout",
     "output_type": "stream",
     "text": [
      "7000: train: 0.0574, val: 0.0582\n"
     ]
    },
    {
     "name": "stderr",
     "output_type": "stream",
     "text": [
      "\n",
      " 71%|███████   | 7056/10000 [00:26<00:10, 268.02it/s]\u001b[A\n",
      " 71%|███████   | 7084/10000 [00:26<00:10, 268.01it/s]\u001b[A\n",
      " 71%|███████   | 7111/10000 [00:26<00:10, 266.59it/s]\u001b[A\n",
      " 71%|███████▏  | 7138/10000 [00:26<00:10, 265.62it/s]\u001b[A"
     ]
    },
    {
     "name": "stdout",
     "output_type": "stream",
     "text": [
      "7100: train: 0.0574, val: 0.0582\n"
     ]
    },
    {
     "name": "stderr",
     "output_type": "stream",
     "text": [
      "\n",
      " 72%|███████▏  | 7165/10000 [00:26<00:10, 263.73it/s]\u001b[A\n",
      " 72%|███████▏  | 7192/10000 [00:26<00:10, 263.25it/s]\u001b[A\n",
      " 72%|███████▏  | 7219/10000 [00:26<00:10, 260.93it/s]\u001b[A\n",
      " 72%|███████▏  | 7246/10000 [00:26<00:10, 261.70it/s]\u001b[A"
     ]
    },
    {
     "name": "stdout",
     "output_type": "stream",
     "text": [
      "7200: train: 0.0574, val: 0.0582\n"
     ]
    },
    {
     "name": "stderr",
     "output_type": "stream",
     "text": [
      "\n",
      " 73%|███████▎  | 7274/10000 [00:26<00:10, 265.86it/s]\u001b[A\n",
      " 73%|███████▎  | 7301/10000 [00:26<00:10, 266.43it/s]\u001b[A\n",
      " 73%|███████▎  | 7329/10000 [00:27<00:09, 269.06it/s]\u001b[A"
     ]
    },
    {
     "name": "stdout",
     "output_type": "stream",
     "text": [
      "7300: train: 0.0574, val: 0.0582\n"
     ]
    },
    {
     "name": "stderr",
     "output_type": "stream",
     "text": [
      "\n",
      " 74%|███████▎  | 7356/10000 [00:27<00:09, 268.76it/s]\u001b[A\n",
      " 74%|███████▍  | 7383/10000 [00:27<00:09, 265.01it/s]\u001b[A\n",
      " 74%|███████▍  | 7410/10000 [00:27<00:09, 262.54it/s]\u001b[A\n",
      " 74%|███████▍  | 7437/10000 [00:27<00:09, 261.68it/s]\u001b[A"
     ]
    },
    {
     "name": "stdout",
     "output_type": "stream",
     "text": [
      "7400: train: 0.0574, val: 0.0582\n"
     ]
    },
    {
     "name": "stderr",
     "output_type": "stream",
     "text": [
      "\n",
      " 75%|███████▍  | 7464/10000 [00:27<00:09, 260.40it/s]\u001b[A\n",
      " 75%|███████▍  | 7491/10000 [00:27<00:09, 259.82it/s]\u001b[A\n",
      " 75%|███████▌  | 7518/10000 [00:27<00:09, 260.55it/s]\u001b[A\n",
      " 75%|███████▌  | 7545/10000 [00:27<00:09, 259.31it/s]\u001b[A"
     ]
    },
    {
     "name": "stdout",
     "output_type": "stream",
     "text": [
      "7500: train: 0.0574, val: 0.0582\n"
     ]
    },
    {
     "name": "stderr",
     "output_type": "stream",
     "text": [
      "\n",
      " 76%|███████▌  | 7572/10000 [00:28<00:09, 260.40it/s]\u001b[A\n",
      " 76%|███████▌  | 7600/10000 [00:28<00:09, 264.65it/s]\u001b[A\n",
      " 76%|███████▋  | 7628/10000 [00:28<00:08, 266.34it/s]\u001b[A\n",
      " 77%|███████▋  | 7655/10000 [00:28<00:08, 267.25it/s]\u001b[A"
     ]
    },
    {
     "name": "stdout",
     "output_type": "stream",
     "text": [
      "7600: train: 0.0574, val: 0.0582\n"
     ]
    },
    {
     "name": "stderr",
     "output_type": "stream",
     "text": [
      "\n",
      " 77%|███████▋  | 7683/10000 [00:28<00:08, 269.43it/s]\u001b[A\n",
      " 77%|███████▋  | 7710/10000 [00:28<00:08, 267.50it/s]\u001b[A\n",
      " 77%|███████▋  | 7737/10000 [00:28<00:08, 265.30it/s]\u001b[A"
     ]
    },
    {
     "name": "stdout",
     "output_type": "stream",
     "text": [
      "7700: train: 0.0574, val: 0.0582\n"
     ]
    },
    {
     "name": "stderr",
     "output_type": "stream",
     "text": [
      "\n",
      " 78%|███████▊  | 7764/10000 [00:28<00:08, 264.79it/s]\u001b[A\n",
      " 78%|███████▊  | 7791/10000 [00:28<00:08, 259.12it/s]\u001b[A\n",
      " 78%|███████▊  | 7818/10000 [00:28<00:08, 259.77it/s]\u001b[A\n",
      " 78%|███████▊  | 7845/10000 [00:29<00:08, 260.28it/s]\u001b[A"
     ]
    },
    {
     "name": "stdout",
     "output_type": "stream",
     "text": [
      "7800: train: 0.0574, val: 0.0582\n"
     ]
    },
    {
     "name": "stderr",
     "output_type": "stream",
     "text": [
      "\n",
      " 79%|███████▊  | 7872/10000 [00:29<00:08, 259.03it/s]\u001b[A\n",
      " 79%|███████▉  | 7898/10000 [00:29<00:08, 256.97it/s]\u001b[A\n",
      " 79%|███████▉  | 7924/10000 [00:29<00:08, 255.07it/s]\u001b[A\n",
      " 80%|███████▉  | 7951/10000 [00:29<00:07, 258.88it/s]\u001b[A"
     ]
    },
    {
     "name": "stdout",
     "output_type": "stream",
     "text": [
      "7900: train: 0.0574, val: 0.0582\n"
     ]
    },
    {
     "name": "stderr",
     "output_type": "stream",
     "text": [
      "\n",
      " 80%|███████▉  | 7979/10000 [00:29<00:07, 263.42it/s]\u001b[A\n",
      " 80%|████████  | 8006/10000 [00:29<00:07, 265.20it/s]\u001b[A\n",
      " 80%|████████  | 8034/10000 [00:29<00:07, 267.68it/s]\u001b[A"
     ]
    },
    {
     "name": "stdout",
     "output_type": "stream",
     "text": [
      "8000: train: 0.0574, val: 0.0582\n"
     ]
    },
    {
     "name": "stderr",
     "output_type": "stream",
     "text": [
      "\n",
      " 81%|████████  | 8061/10000 [00:29<00:07, 267.48it/s]\u001b[A\n",
      " 81%|████████  | 8088/10000 [00:29<00:07, 266.25it/s]\u001b[A\n",
      " 81%|████████  | 8115/10000 [00:30<00:07, 265.32it/s]\u001b[A\n",
      " 81%|████████▏ | 8142/10000 [00:30<00:07, 264.34it/s]\u001b[A"
     ]
    },
    {
     "name": "stdout",
     "output_type": "stream",
     "text": [
      "8100: train: 0.0573, val: 0.0582\n"
     ]
    },
    {
     "name": "stderr",
     "output_type": "stream",
     "text": [
      "\n",
      " 82%|████████▏ | 8169/10000 [00:30<00:06, 261.58it/s]\u001b[A\n",
      " 82%|████████▏ | 8196/10000 [00:30<00:06, 261.12it/s]\u001b[A\n",
      " 82%|████████▏ | 8223/10000 [00:30<00:06, 260.85it/s]\u001b[A\n",
      " 82%|████████▎ | 8250/10000 [00:30<00:06, 263.36it/s]\u001b[A"
     ]
    },
    {
     "name": "stdout",
     "output_type": "stream",
     "text": [
      "8200: train: 0.0574, val: 0.0582\n"
     ]
    },
    {
     "name": "stderr",
     "output_type": "stream",
     "text": [
      "\n",
      " 83%|████████▎ | 8278/10000 [00:30<00:06, 266.94it/s]\u001b[A\n",
      " 83%|████████▎ | 8306/10000 [00:30<00:06, 268.53it/s]\u001b[A\n",
      " 83%|████████▎ | 8333/10000 [00:30<00:06, 267.45it/s]\u001b[A"
     ]
    },
    {
     "name": "stdout",
     "output_type": "stream",
     "text": [
      "8300: train: 0.0574, val: 0.0582\n"
     ]
    },
    {
     "name": "stderr",
     "output_type": "stream",
     "text": [
      "\n",
      " 84%|████████▎ | 8360/10000 [00:30<00:06, 268.17it/s]\u001b[A\n",
      " 84%|████████▍ | 8387/10000 [00:31<00:06, 266.53it/s]\u001b[A\n",
      " 84%|████████▍ | 8414/10000 [00:31<00:06, 262.79it/s]\u001b[A\n",
      " 84%|████████▍ | 8442/10000 [00:31<00:05, 265.49it/s]\u001b[A"
     ]
    },
    {
     "name": "stdout",
     "output_type": "stream",
     "text": [
      "8400: train: 0.0573, val: 0.0582\n"
     ]
    },
    {
     "name": "stderr",
     "output_type": "stream",
     "text": [
      "\n",
      " 85%|████████▍ | 8469/10000 [00:31<00:05, 263.88it/s]\u001b[A\n",
      " 85%|████████▍ | 8496/10000 [00:31<00:05, 263.33it/s]\u001b[A\n",
      " 85%|████████▌ | 8523/10000 [00:31<00:05, 262.19it/s]\u001b[A\n",
      " 86%|████████▌ | 8550/10000 [00:31<00:05, 262.79it/s]\u001b[A"
     ]
    },
    {
     "name": "stdout",
     "output_type": "stream",
     "text": [
      "8500: train: 0.0573, val: 0.0582\n"
     ]
    },
    {
     "name": "stderr",
     "output_type": "stream",
     "text": [
      "\n",
      " 86%|████████▌ | 8577/10000 [00:31<00:05, 258.48it/s]\u001b[A\n",
      " 86%|████████▌ | 8604/10000 [00:31<00:05, 260.55it/s]\u001b[A\n",
      " 86%|████████▋ | 8632/10000 [00:32<00:05, 264.43it/s]\u001b[A"
     ]
    },
    {
     "name": "stdout",
     "output_type": "stream",
     "text": [
      "8600: train: 0.0573, val: 0.0582\n"
     ]
    },
    {
     "name": "stderr",
     "output_type": "stream",
     "text": [
      "\n",
      " 87%|████████▋ | 8660/10000 [00:32<00:05, 266.72it/s]\u001b[A\n",
      " 87%|████████▋ | 8687/10000 [00:32<00:04, 266.03it/s]\u001b[A\n",
      " 87%|████████▋ | 8714/10000 [00:32<00:04, 266.78it/s]\u001b[A\n",
      " 87%|████████▋ | 8741/10000 [00:32<00:04, 265.87it/s]\u001b[A"
     ]
    },
    {
     "name": "stdout",
     "output_type": "stream",
     "text": [
      "8700: train: 0.0573, val: 0.0582\n"
     ]
    },
    {
     "name": "stderr",
     "output_type": "stream",
     "text": [
      "\n",
      " 88%|████████▊ | 8768/10000 [00:32<00:04, 264.28it/s]\u001b[A\n",
      " 88%|████████▊ | 8795/10000 [00:32<00:04, 262.21it/s]\u001b[A\n",
      " 88%|████████▊ | 8822/10000 [00:32<00:04, 260.49it/s]\u001b[A\n",
      " 88%|████████▊ | 8849/10000 [00:32<00:04, 259.02it/s]\u001b[A"
     ]
    },
    {
     "name": "stdout",
     "output_type": "stream",
     "text": [
      "8800: train: 0.0573, val: 0.0582\n"
     ]
    },
    {
     "name": "stderr",
     "output_type": "stream",
     "text": [
      "\n",
      " 89%|████████▉ | 8877/10000 [00:32<00:04, 262.97it/s]\u001b[A\n",
      " 89%|████████▉ | 8905/10000 [00:33<00:04, 266.19it/s]\u001b[A\n",
      " 89%|████████▉ | 8932/10000 [00:33<00:04, 265.61it/s]\u001b[A"
     ]
    },
    {
     "name": "stdout",
     "output_type": "stream",
     "text": [
      "8900: train: 0.0573, val: 0.0582\n"
     ]
    },
    {
     "name": "stderr",
     "output_type": "stream",
     "text": [
      "\n",
      " 90%|████████▉ | 8959/10000 [00:33<00:03, 265.33it/s]\u001b[A\n",
      " 90%|████████▉ | 8986/10000 [00:33<00:03, 264.91it/s]\u001b[A\n",
      " 90%|█████████ | 9013/10000 [00:33<00:03, 261.35it/s]\u001b[A\n",
      " 90%|█████████ | 9040/10000 [00:33<00:03, 261.82it/s]\u001b[A"
     ]
    },
    {
     "name": "stdout",
     "output_type": "stream",
     "text": [
      "9000: train: 0.0573, val: 0.0582\n"
     ]
    },
    {
     "name": "stderr",
     "output_type": "stream",
     "text": [
      "\n",
      " 91%|█████████ | 9067/10000 [00:33<00:03, 259.80it/s]\u001b[A\n",
      " 91%|█████████ | 9094/10000 [00:33<00:03, 261.25it/s]\u001b[A\n",
      " 91%|█████████ | 9121/10000 [00:33<00:03, 262.07it/s]\u001b[A\n",
      " 91%|█████████▏| 9149/10000 [00:33<00:03, 266.62it/s]\u001b[A"
     ]
    },
    {
     "name": "stdout",
     "output_type": "stream",
     "text": [
      "9100: train: 0.0573, val: 0.0582\n"
     ]
    },
    {
     "name": "stderr",
     "output_type": "stream",
     "text": [
      "\n",
      " 92%|█████████▏| 9177/10000 [00:34<00:03, 268.00it/s]\u001b[A\n",
      " 92%|█████████▏| 9204/10000 [00:34<00:02, 267.46it/s]\u001b[A\n",
      " 92%|█████████▏| 9231/10000 [00:34<00:02, 266.48it/s]\u001b[A"
     ]
    },
    {
     "name": "stdout",
     "output_type": "stream",
     "text": [
      "9200: train: 0.0573, val: 0.0582\n"
     ]
    },
    {
     "name": "stderr",
     "output_type": "stream",
     "text": [
      "\n",
      " 93%|█████████▎| 9258/10000 [00:34<00:02, 263.67it/s]\u001b[A\n",
      " 93%|█████████▎| 9285/10000 [00:34<00:02, 262.45it/s]\u001b[A\n",
      " 93%|█████████▎| 9312/10000 [00:34<00:02, 259.29it/s]\u001b[A\n",
      " 93%|█████████▎| 9338/10000 [00:34<00:02, 259.18it/s]\u001b[A"
     ]
    },
    {
     "name": "stdout",
     "output_type": "stream",
     "text": [
      "9300: train: 0.0573, val: 0.0582\n"
     ]
    },
    {
     "name": "stderr",
     "output_type": "stream",
     "text": [
      "\n",
      " 94%|█████████▎| 9365/10000 [00:34<00:02, 260.58it/s]\u001b[A\n",
      " 94%|█████████▍| 9393/10000 [00:34<00:02, 264.74it/s]\u001b[A\n",
      " 94%|█████████▍| 9420/10000 [00:35<00:02, 265.18it/s]\u001b[A\n",
      " 94%|█████████▍| 9448/10000 [00:35<00:02, 266.70it/s]\u001b[A"
     ]
    },
    {
     "name": "stdout",
     "output_type": "stream",
     "text": [
      "9400: train: 0.0573, val: 0.0582\n"
     ]
    },
    {
     "name": "stderr",
     "output_type": "stream",
     "text": [
      "\n",
      " 95%|█████████▍| 9475/10000 [00:35<00:01, 263.16it/s]\u001b[A\n",
      " 95%|█████████▌| 9502/10000 [00:35<00:01, 262.30it/s]\u001b[A\n",
      " 95%|█████████▌| 9529/10000 [00:35<00:01, 261.74it/s]\u001b[A"
     ]
    },
    {
     "name": "stdout",
     "output_type": "stream",
     "text": [
      "9500: train: 0.0573, val: 0.0582\n"
     ]
    },
    {
     "name": "stderr",
     "output_type": "stream",
     "text": [
      "\n",
      " 96%|█████████▌| 9556/10000 [00:35<00:01, 260.15it/s]\u001b[A\n",
      " 96%|█████████▌| 9583/10000 [00:35<00:01, 259.91it/s]\u001b[A\n",
      " 96%|█████████▌| 9609/10000 [00:35<00:01, 259.50it/s]\u001b[A\n",
      " 96%|█████████▋| 9635/10000 [00:35<00:01, 259.17it/s]\u001b[A"
     ]
    },
    {
     "name": "stdout",
     "output_type": "stream",
     "text": [
      "9600: train: 0.0573, val: 0.0582\n"
     ]
    },
    {
     "name": "stderr",
     "output_type": "stream",
     "text": [
      "\n",
      " 97%|█████████▋| 9661/10000 [00:35<00:01, 258.38it/s]\u001b[A\n",
      " 97%|█████████▋| 9687/10000 [00:36<00:01, 258.54it/s]\u001b[A\n",
      " 97%|█████████▋| 9713/10000 [00:36<00:01, 257.05it/s]\u001b[A\n",
      " 97%|█████████▋| 9739/10000 [00:36<00:01, 256.95it/s]\u001b[A"
     ]
    },
    {
     "name": "stdout",
     "output_type": "stream",
     "text": [
      "9700: train: 0.0573, val: 0.0582\n"
     ]
    },
    {
     "name": "stderr",
     "output_type": "stream",
     "text": [
      "\n",
      " 98%|█████████▊| 9765/10000 [00:36<00:00, 257.32it/s]\u001b[A\n",
      " 98%|█████████▊| 9791/10000 [00:36<00:00, 257.54it/s]\u001b[A\n",
      " 98%|█████████▊| 9817/10000 [00:36<00:00, 257.51it/s]\u001b[A\n",
      " 98%|█████████▊| 9843/10000 [00:36<00:00, 257.85it/s]\u001b[A"
     ]
    },
    {
     "name": "stdout",
     "output_type": "stream",
     "text": [
      "9800: train: 0.0573, val: 0.0582\n"
     ]
    },
    {
     "name": "stderr",
     "output_type": "stream",
     "text": [
      "\n",
      " 99%|█████████▊| 9869/10000 [00:36<00:00, 258.11it/s]\u001b[A\n",
      " 99%|█████████▉| 9895/10000 [00:36<00:00, 257.79it/s]\u001b[A\n",
      " 99%|█████████▉| 9921/10000 [00:36<00:00, 257.27it/s]\u001b[A\n",
      " 99%|█████████▉| 9947/10000 [00:37<00:00, 257.21it/s]\u001b[A"
     ]
    },
    {
     "name": "stdout",
     "output_type": "stream",
     "text": [
      "9900: train: 0.0573, val: 0.0582\n"
     ]
    },
    {
     "name": "stderr",
     "output_type": "stream",
     "text": [
      "\n",
      "100%|█████████▉| 9973/10000 [00:37<00:00, 256.98it/s]\u001b[A\n",
      "100%|█████████▉| 9999/10000 [00:37<00:00, 257.56it/s]\u001b[A\n",
      "100%|██████████| 10000/10000 [00:37<00:00, 268.34it/s]\u001b[A"
     ]
    }
   ],
   "source": [
    "hidden = 128\n",
    "features_out = 6\n",
    "\n",
    "# model = torch.nn.Sequential(\n",
    "#         torch.nn.Linear(train_x.shape[1], features_out)\n",
    "# )\n",
    "\n",
    "class Model(torch.nn.Module):\n",
    "    def __init__(self):\n",
    "        super().__init__()\n",
    "        self.w1 = torch.nn.Linear(train_x.shape[1], features_out, bias=False)\n",
    "\n",
    "    def forward(self, x):\n",
    "        x = F.linear(x, torch.abs(self.w1.weight) / torch.sum(torch.abs(self.w1.weight), 1, keepdim=True), self.w1.bias)\n",
    "#         x = F.linear(x, self.w1.weight / torch.sum(self.w1.weight, 1, keepdim=True), self.w1.bias)\n",
    "        return torch.clamp(x, 0, 1)\n",
    "\n",
    "\n",
    "model = Model()\n",
    "print(model.w1.weight.shape)\n",
    "# model = torch.nn.Sequential(\n",
    "#         torch.nn.Linear(train_x.shape[1], hidden),\n",
    "#         torch.nn.ReLU(),\n",
    "# #         torch.nn.Dropout(0.2),\n",
    "#         torch.nn.Linear(hidden, features_out),\n",
    "# )\n",
    "\n",
    "train_x = train_x.cuda()\n",
    "train_y = train_y.cuda()\n",
    "val_x = val_x.cuda()\n",
    "val_y = val_y.cuda()\n",
    "model = model.cuda()\n",
    "\n",
    "optimizer = torch.optim.Adam(model.parameters(), 0.0001)\n",
    "val_log_loss = 0\n",
    "class_weights = class_weights.cuda()\n",
    "\n",
    "for i in tqdm(range(10000)):\n",
    "    optimizer.zero_grad()\n",
    "\n",
    "    y_hat = model(train_x)\n",
    "    loss = F.binary_cross_entropy(y_hat, train_y, weight=class_weights)\n",
    "    loss.backward()\n",
    "    optimizer.step()\n",
    "\n",
    "    if i % 100 == 0:\n",
    "        model.eval()\n",
    "        val_y_hat = model(val_x)\n",
    "        val_loss = F.binary_cross_entropy(val_y_hat, val_y, weight=class_weights)\n",
    "        model.train()\n",
    "        \n",
    "        print(f'{i:04d}: train: {loss.item():.04f}, val: {val_loss.item():.04f}')"
   ]
  },
  {
   "cell_type": "code",
   "execution_count": 9,
   "metadata": {},
   "outputs": [
    {
     "data": {
      "text/plain": [
       "tensor([[1.6175e-05, 3.3427e-06, 7.2556e-06, 3.6481e-06, 3.5664e-06, 5.8942e-06,\n",
       "         1.0334e-02, 7.9139e-06, 2.6752e-06, 4.0633e-06, 6.9975e-06, 5.5327e-06,\n",
       "         7.7679e-03, 1.2487e-05, 3.5652e-06, 1.8475e-06, 5.6836e-06, 7.4572e-06,\n",
       "         6.7314e-06, 2.8986e-07, 6.8215e-06, 2.6493e-06, 6.9987e-06, 3.5359e-06,\n",
       "         1.1278e-05, 7.9612e-06, 5.5704e-06, 6.9655e-07, 9.4248e-06, 8.0391e-06,\n",
       "         7.0075e-02, 5.2306e-06, 7.8575e-06, 3.7447e-06, 3.6100e-06, 2.4426e-06,\n",
       "         8.0505e-02, 9.6311e-07, 9.8790e-06, 5.6635e-06, 1.0270e-05, 2.7731e-06,\n",
       "         1.1803e-01, 1.0128e-05, 3.4024e-06, 7.1866e-06, 6.4559e-06, 5.4386e-06,\n",
       "         3.5133e-02, 9.3689e-06, 9.1701e-06, 4.9436e-06, 4.0378e-06, 5.7272e-06,\n",
       "         1.2139e-05, 6.4111e-06, 3.2622e-07, 7.0553e-06, 7.3319e-06, 3.8639e-06,\n",
       "         2.4847e-02, 2.6180e-06, 3.7442e-06, 3.7545e-06, 3.4401e-06, 7.0550e-06,\n",
       "         4.1661e-02, 7.4850e-06, 1.6732e-06, 4.0225e-06, 7.1409e-06, 2.6647e-06,\n",
       "         4.1517e-02, 5.8188e-06, 2.7854e-06, 3.2522e-06, 4.5618e-06, 2.7583e-06,\n",
       "         1.0296e-02, 5.3882e-06, 4.7085e-06, 4.9927e-06, 9.5556e-07, 6.2138e-06,\n",
       "         7.7942e-02, 1.1171e-05, 3.9130e-06, 7.6392e-06, 4.5462e-06, 5.2261e-06,\n",
       "         6.6743e-06, 1.8950e-06, 1.0234e-06, 1.5137e-06, 4.5706e-06, 7.4790e-06,\n",
       "         4.6682e-07, 1.2386e-05, 1.3367e-05, 6.2453e-06, 5.6017e-06, 6.3667e-06,\n",
       "         3.5737e-02, 1.2245e-05, 3.6901e-06, 7.3118e-06, 3.2317e-06, 3.4250e-06,\n",
       "         3.4019e-06, 9.1381e-06, 5.8936e-06, 2.8470e-06, 1.8293e-06, 4.0189e-06,\n",
       "         3.1022e-08, 4.0546e-06, 1.4423e-05, 7.7782e-06, 3.2101e-06, 5.3324e-06,\n",
       "         5.8584e-02, 5.0728e-06, 8.2138e-06, 4.4023e-06, 4.6520e-06, 6.8881e-06,\n",
       "         7.3554e-02, 1.1658e-05, 9.3844e-06, 3.7082e-06, 4.1702e-06, 3.4750e-06,\n",
       "         1.0823e-01, 7.6542e-06, 6.4276e-06, 7.5523e-06, 6.0734e-06, 6.2328e-06,\n",
       "         1.0042e-01, 3.6345e-06, 5.1132e-06, 4.9230e-06, 7.2261e-06, 3.4142e-06,\n",
       "         1.0455e-01, 7.9315e-05, 1.5032e-06, 7.6344e-06, 5.0714e-06, 3.9544e-06],\n",
       "        [2.5321e-05, 2.9901e-06, 1.6276e-05, 3.5860e-06, 2.0411e-05, 5.3445e-06,\n",
       "         5.3087e-06, 9.0330e-06, 1.1968e-05, 1.8226e-05, 1.4410e-05, 5.3839e-05,\n",
       "         5.2987e-06, 9.8142e-02, 1.0201e-05, 3.8066e-06, 7.9258e-06, 6.7323e-06,\n",
       "         2.9529e-05, 6.1393e-06, 7.7028e-06, 2.3443e-05, 2.0596e-05, 1.1462e-05,\n",
       "         4.5760e-05, 7.7711e-06, 1.7277e-05, 1.2193e-05, 7.1954e-06, 5.6598e-06,\n",
       "         5.0835e-05, 1.2991e-03, 1.8517e-05, 7.5928e-06, 9.2219e-06, 1.8318e-05,\n",
       "         1.2294e-05, 1.1282e-02, 8.9872e-06, 1.1848e-05, 5.1361e-06, 1.8707e-05,\n",
       "         1.8187e-05, 3.3510e-01, 9.9623e-06, 6.9297e-06, 1.0662e-05, 1.9182e-05,\n",
       "         4.4233e-05, 2.2381e-02, 8.0378e-06, 7.0778e-06, 1.1884e-05, 9.7166e-06,\n",
       "         3.2692e-06, 1.9142e-03, 9.7740e-06, 2.8803e-06, 8.9771e-06, 9.2826e-06,\n",
       "         1.9185e-05, 2.7057e-06, 8.5671e-06, 3.0803e-06, 1.5376e-05, 8.9700e-06,\n",
       "         2.8058e-06, 1.1410e-05, 7.4832e-07, 7.6713e-06, 6.2735e-06, 5.3625e-06,\n",
       "         1.3618e-05, 1.5554e-01, 1.8531e-06, 1.0262e-05, 1.5230e-05, 1.1265e-05,\n",
       "         1.5015e-05, 5.6033e-06, 2.5390e-05, 6.7440e-06, 8.4786e-06, 7.0731e-06,\n",
       "         6.3326e-06, 1.6030e-05, 9.7782e-06, 2.4756e-05, 1.0525e-05, 1.7990e-05,\n",
       "         1.3463e-03, 1.3170e-05, 1.2812e-05, 7.4892e-06, 2.1697e-06, 1.8483e-05,\n",
       "         5.8911e-05, 2.6596e-06, 2.1674e-07, 1.3831e-05, 5.9363e-06, 1.0570e-05,\n",
       "         4.1515e-06, 1.8199e-01, 1.2345e-05, 1.0586e-05, 8.5585e-06, 2.6777e-05,\n",
       "         2.0344e-06, 9.2922e-06, 3.2553e-06, 8.4620e-07, 1.5151e-06, 6.1747e-06,\n",
       "         3.2360e-06, 1.3100e-05, 1.2927e-05, 1.9208e-05, 1.5393e-05, 1.8473e-05,\n",
       "         2.1290e-07, 1.3807e-05, 9.9924e-06, 1.3585e-05, 2.0356e-06, 1.0676e-05,\n",
       "         2.4752e-06, 6.8563e-06, 2.5848e-05, 3.8070e-06, 1.0295e-05, 3.5369e-06,\n",
       "         3.3711e-04, 1.8793e-01, 6.5307e-06, 1.2215e-05, 1.1136e-05, 7.9490e-06,\n",
       "         1.0900e-03, 6.3359e-06, 8.4769e-06, 1.6490e-05, 9.0239e-06, 1.0696e-05,\n",
       "         5.3873e-05, 3.0838e-06, 1.1949e-05, 1.1512e-05, 8.5425e-06, 7.2180e-06],\n",
       "        [1.7043e-05, 5.3515e-06, 5.3145e-06, 6.4751e-06, 1.5167e-05, 1.1403e-05,\n",
       "         1.1734e-05, 8.2494e-06, 7.6315e-06, 9.5019e-06, 1.7504e-05, 1.7208e-05,\n",
       "         1.1747e-05, 1.9487e-05, 1.4371e-01, 1.1544e-05, 2.7584e-06, 6.7994e-06,\n",
       "         9.0465e-06, 8.5086e-06, 1.5317e-05, 1.9877e-05, 6.9071e-06, 6.8250e-06,\n",
       "         1.9695e-05, 7.0965e-06, 7.9843e-06, 6.2428e-06, 3.7651e-06, 7.0649e-06,\n",
       "         6.4746e-06, 5.4556e-06, 3.7745e-04, 7.9610e-06, 5.9452e-06, 1.8085e-05,\n",
       "         3.6335e-06, 1.1247e-05, 1.4592e-02, 8.8177e-06, 7.4993e-06, 2.0574e-05,\n",
       "         8.6745e-06, 8.0267e-06, 4.1474e-01, 9.7268e-06, 5.6408e-06, 4.4308e-06,\n",
       "         3.4409e-06, 1.1013e-05, 2.0360e-02, 6.8746e-06, 9.2916e-06, 9.0946e-06,\n",
       "         9.6062e-06, 1.8918e-05, 5.2768e-04, 7.0390e-06, 3.6002e-06, 8.9137e-06,\n",
       "         8.9966e-06, 1.8268e-05, 7.6675e-06, 7.7885e-06, 1.1258e-05, 1.5347e-05,\n",
       "         5.7638e-06, 1.6562e-05, 5.0494e-06, 4.6726e-06, 8.3472e-06, 1.7672e-05,\n",
       "         8.2344e-06, 2.5962e-06, 1.2386e-02, 1.3620e-05, 1.2076e-05, 1.5987e-05,\n",
       "         1.0320e-05, 8.6783e-07, 8.5637e-06, 4.0548e-06, 1.0932e-05, 9.4382e-07,\n",
       "         1.2666e-05, 6.2543e-06, 3.0139e-03, 6.8496e-06, 7.7130e-06, 5.4838e-06,\n",
       "         1.2144e-05, 6.8609e-06, 1.2184e-05, 5.0089e-06, 8.3900e-06, 7.3987e-06,\n",
       "         1.9927e-05, 7.0730e-06, 1.2360e-05, 1.7034e-05, 6.2333e-06, 2.7900e-05,\n",
       "         1.3569e-05, 1.1047e-05, 1.7378e-01, 1.8015e-05, 8.4742e-06, 1.1355e-05,\n",
       "         1.1457e-05, 6.8652e-06, 5.1827e-06, 1.1128e-05, 7.8973e-06, 6.3608e-06,\n",
       "         9.5225e-06, 1.7348e-05, 9.3924e-06, 7.1773e-06, 1.7139e-05, 1.1087e-05,\n",
       "         5.3647e-06, 1.1367e-05, 9.6881e-06, 1.3140e-05, 7.8870e-06, 7.1899e-06,\n",
       "         2.5280e-06, 1.8548e-05, 4.7645e-06, 6.1874e-06, 1.3657e-06, 6.1248e-06,\n",
       "         1.6673e-05, 1.7597e-05, 2.1510e-01, 1.8322e-05, 7.6301e-06, 1.1352e-05,\n",
       "         9.5705e-06, 5.8061e-06, 7.7172e-06, 1.1455e-05, 2.7565e-05, 7.8909e-06,\n",
       "         1.1334e-05, 7.5293e-06, 1.2894e-05, 1.0166e-05, 1.8786e-05, 5.5445e-06],\n",
       "        [4.0644e-06, 1.0981e-05, 1.9070e-05, 6.2956e-03, 6.8337e-06, 4.5815e-06,\n",
       "         9.6024e-06, 1.8130e-06, 6.1245e-06, 9.9030e-03, 1.1672e-05, 1.6176e-05,\n",
       "         2.8846e-06, 1.3458e-05, 8.3805e-06, 1.9071e-01, 6.1442e-06, 6.1762e-06,\n",
       "         1.0725e-05, 1.0134e-06, 7.4113e-06, 4.9024e-02, 1.8117e-05, 1.8052e-05,\n",
       "         7.5324e-06, 8.0594e-06, 1.9081e-05, 2.6235e-02, 1.1770e-05, 7.2668e-06,\n",
       "         1.4285e-05, 5.8008e-06, 5.7007e-06, 1.1215e-06, 1.1205e-05, 6.5811e-06,\n",
       "         3.4065e-06, 7.4389e-06, 1.1554e-05, 3.7078e-02, 1.1040e-05, 1.6593e-05,\n",
       "         4.9890e-06, 7.5820e-06, 3.4326e-06, 1.9156e-01, 9.6498e-06, 6.9348e-06,\n",
       "         7.4299e-06, 9.3727e-06, 4.9500e-06, 1.9365e-02, 1.6508e-05, 5.5721e-06,\n",
       "         2.1367e-06, 3.8643e-06, 1.1567e-05, 5.6098e-03, 1.0136e-05, 1.6188e-05,\n",
       "         5.9536e-06, 9.2321e-06, 7.5961e-06, 8.0304e-06, 1.1033e-05, 2.5443e-06,\n",
       "         1.2582e-05, 1.2167e-05, 1.5678e-05, 4.7771e-06, 1.5599e-05, 6.0697e-06,\n",
       "         9.5831e-06, 6.7867e-06, 8.5128e-06, 1.5049e-01, 1.9617e-05, 1.7260e-05,\n",
       "         1.6992e-05, 3.4237e-06, 8.9039e-06, 9.3619e-06, 1.0871e-05, 6.3124e-06,\n",
       "         8.8204e-06, 4.1897e-06, 4.8597e-06, 9.6813e-06, 8.1538e-06, 2.5636e-07,\n",
       "         7.9493e-06, 8.2965e-06, 9.9294e-06, 2.6456e-03, 7.5718e-06, 1.0722e-05,\n",
       "         9.7018e-07, 4.1482e-06, 1.6423e-05, 5.2586e-06, 1.8815e-05, 4.6338e-06,\n",
       "         1.3397e-05, 7.5279e-06, 5.9395e-06, 5.3214e-02, 4.3452e-06, 2.5875e-05,\n",
       "         3.0285e-05, 4.1629e-06, 8.5301e-06, 1.7003e-06, 1.0303e-05, 2.0083e-05,\n",
       "         5.5799e-06, 8.8970e-06, 9.9604e-06, 3.9604e-03, 5.7258e-06, 1.1364e-05,\n",
       "         6.1604e-06, 3.5160e-06, 1.8049e-05, 1.2266e-04, 7.0588e-06, 1.6176e-05,\n",
       "         8.8442e-06, 8.9805e-07, 4.6714e-06, 2.6469e-07, 4.2717e-06, 6.2715e-06,\n",
       "         9.3638e-06, 1.1454e-05, 1.2167e-05, 2.5258e-01, 1.8238e-05, 1.5896e-05,\n",
       "         5.7193e-06, 1.7146e-06, 1.2125e-05, 7.4607e-06, 3.1284e-06, 1.8554e-06,\n",
       "         2.0080e-05, 7.3833e-06, 7.6058e-06, 2.6657e-06, 5.6376e-06, 4.4587e-06],\n",
       "        [1.4302e-05, 1.7275e-06, 3.8875e-06, 1.0869e-05, 1.4381e-05, 1.6698e-05,\n",
       "         2.4478e-03, 8.2715e-06, 1.2383e-05, 1.6081e-05, 3.7633e-02, 1.7223e-05,\n",
       "         1.2486e-04, 1.1656e-05, 7.3127e-06, 1.7775e-05, 2.1424e-01, 6.8461e-06,\n",
       "         1.4392e-05, 7.9665e-06, 1.5996e-06, 2.1084e-06, 6.6154e-02, 5.5815e-06,\n",
       "         1.2640e-05, 1.0903e-05, 1.2427e-05, 6.7093e-06, 4.5859e-03, 1.0344e-05,\n",
       "         6.2570e-06, 5.0343e-06, 1.1646e-05, 4.2887e-06, 1.0511e-07, 9.6078e-06,\n",
       "         2.0828e-05, 1.6753e-05, 4.9854e-06, 8.2245e-06, 3.5476e-02, 1.0861e-05,\n",
       "         1.0805e-05, 8.7685e-06, 7.3296e-06, 1.1768e-05, 1.3967e-01, 5.9905e-06,\n",
       "         1.0015e-05, 6.0173e-06, 4.1799e-06, 3.7428e-06, 2.0445e-02, 7.3846e-06,\n",
       "         1.5209e-07, 7.2816e-06, 3.1815e-07, 1.2683e-05, 4.1615e-06, 1.9760e-05,\n",
       "         1.0834e-05, 1.0923e-05, 2.6463e-05, 9.2369e-06, 8.4174e-03, 1.0559e-05,\n",
       "         2.9897e-05, 9.3324e-06, 1.1391e-05, 6.7649e-06, 5.3073e-03, 1.5039e-05,\n",
       "         8.6533e-06, 3.7882e-06, 6.7250e-06, 3.8475e-06, 1.4891e-01, 1.6777e-05,\n",
       "         7.1578e-06, 1.4059e-05, 8.8054e-06, 1.8284e-06, 9.1734e-06, 6.2060e-06,\n",
       "         1.5267e-05, 1.0813e-05, 1.8085e-06, 3.2220e-06, 3.6008e-06, 5.6488e-06,\n",
       "         1.8721e-05, 1.1667e-05, 4.9800e-06, 1.0586e-05, 5.1459e-06, 1.5207e-05,\n",
       "         9.0064e-05, 1.1147e-05, 1.7895e-05, 3.1407e-06, 1.0136e-02, 2.2466e-06,\n",
       "         1.2004e-07, 9.5776e-06, 7.7995e-06, 9.7409e-06, 8.8561e-02, 1.5649e-05,\n",
       "         7.8552e-06, 5.0138e-06, 1.3205e-06, 7.7307e-06, 1.1985e-05, 5.6458e-06,\n",
       "         2.5887e-05, 1.0160e-05, 9.3346e-06, 1.3508e-05, 3.5049e-06, 1.4426e-05,\n",
       "         1.4024e-05, 4.9723e-06, 1.5876e-06, 3.0516e-06, 2.5285e-03, 4.8424e-06,\n",
       "         1.1184e-05, 6.8592e-06, 1.3960e-05, 3.6623e-06, 1.9253e-03, 5.3637e-06,\n",
       "         1.7156e-06, 7.7333e-06, 9.9453e-06, 1.2641e-05, 1.7220e-01, 8.2123e-06,\n",
       "         1.8571e-05, 3.7430e-06, 1.1980e-05, 6.8302e-06, 6.1295e-04, 5.0408e-06,\n",
       "         2.6029e-05, 1.7667e-05, 1.2034e-05, 5.5774e-06, 3.9336e-02, 6.6077e-06],\n",
       "        [3.8369e-06, 2.8647e-05, 1.1900e-05, 2.7565e-05, 4.1383e-06, 1.4268e-05,\n",
       "         3.2079e-05, 1.2893e-05, 3.7255e-07, 5.5869e-06, 4.1272e-06, 3.2412e-06,\n",
       "         2.3212e-05, 2.2122e-05, 6.0695e-05, 3.0880e-05, 9.4373e-07, 2.3529e-01,\n",
       "         1.3091e-07, 3.4893e-05, 9.0946e-06, 1.1860e-05, 2.3895e-05, 2.8698e-02,\n",
       "         2.9001e-05, 1.1897e-06, 9.7181e-06, 9.4041e-06, 1.4458e-05, 2.4845e-03,\n",
       "         8.4234e-06, 1.2057e-05, 4.0732e-06, 2.9771e-05, 3.2864e-06, 1.7965e-03,\n",
       "         6.7838e-06, 6.4133e-07, 5.2947e-04, 5.6337e-06, 2.8618e-05, 1.1876e-02,\n",
       "         2.8006e-06, 3.7542e-07, 1.7772e-05, 3.2829e-05, 9.3089e-06, 2.1111e-01,\n",
       "         6.1608e-06, 2.9183e-05, 3.8311e-05, 1.6537e-05, 1.4383e-05, 4.1599e-03,\n",
       "         6.6708e-06, 4.0409e-05, 1.6953e-05, 2.0615e-05, 2.5761e-05, 8.1858e-06,\n",
       "         9.1579e-07, 8.2195e-06, 1.4133e-05, 5.6313e-06, 1.2998e-05, 1.9770e-05,\n",
       "         2.3704e-05, 2.7100e-06, 2.7110e-05, 1.3681e-05, 8.1614e-06, 9.8371e-06,\n",
       "         8.6570e-06, 1.1098e-05, 2.4599e-05, 4.2093e-05, 3.0986e-05, 2.6091e-01,\n",
       "         8.4394e-06, 1.5487e-05, 1.0391e-06, 6.1289e-06, 2.3793e-05, 1.3065e-05,\n",
       "         1.0757e-05, 3.1349e-06, 5.7473e-06, 1.0894e-05, 3.2865e-05, 1.8579e-05,\n",
       "         2.3457e-05, 1.7530e-06, 2.8570e-05, 1.7038e-05, 1.6887e-07, 2.8639e-06,\n",
       "         1.6210e-05, 3.1605e-05, 1.8864e-05, 1.2723e-05, 1.1224e-05, 2.5399e-05,\n",
       "         6.6335e-06, 3.1799e-05, 1.4845e-05, 1.5050e-05, 2.4932e-05, 8.9860e-02,\n",
       "         7.3182e-06, 1.9559e-05, 1.2317e-05, 9.3548e-06, 9.3606e-06, 1.0260e-05,\n",
       "         2.7612e-05, 2.6229e-05, 2.6767e-05, 3.8932e-05, 1.7225e-05, 1.9788e-05,\n",
       "         3.7474e-06, 2.7615e-05, 1.6228e-05, 1.8454e-05, 4.6277e-05, 1.0725e-05,\n",
       "         2.1067e-05, 8.7808e-06, 1.5194e-06, 2.3684e-05, 9.4111e-06, 2.7987e-05,\n",
       "         1.9677e-05, 7.6639e-06, 4.8364e-06, 7.7373e-06, 6.4707e-06, 1.5112e-01,\n",
       "         1.1176e-05, 2.9720e-05, 5.2033e-06, 3.3017e-05, 1.2513e-05, 9.6216e-06,\n",
       "         8.6943e-06, 2.9021e-07, 2.3934e-05, 9.5310e-06, 5.7912e-06, 1.8710e-05]],\n",
       "       device='cuda:0', grad_fn=<DivBackward0>)"
      ]
     },
     "execution_count": 9,
     "metadata": {},
     "output_type": "execute_result"
    }
   ],
   "source": [
    "torch.abs(model.w1.weight) / torch.sum(torch.abs(model.w1.weight), 1, keepdim=True)"
   ]
  },
  {
   "cell_type": "markdown",
   "metadata": {},
   "source": [
    "Apply the trained model on the L1 test predictions:"
   ]
  },
  {
   "cell_type": "markdown",
   "metadata": {},
   "source": [
    "TODO: implement apply to test and call generate_submission with clip_eps 1e-5"
   ]
  },
  {
   "cell_type": "code",
   "execution_count": null,
   "metadata": {},
   "outputs": [],
   "source": []
  }
 ],
 "metadata": {
  "kernelspec": {
   "display_name": "Python 3",
   "language": "python",
   "name": "python3"
  },
  "language_info": {
   "codemirror_mode": {
    "name": "ipython",
    "version": 3
   },
   "file_extension": ".py",
   "mimetype": "text/x-python",
   "name": "python",
   "nbconvert_exporter": "python",
   "pygments_lexer": "ipython3",
   "version": "3.6.8"
  }
 },
 "nbformat": 4,
 "nbformat_minor": 2
}
